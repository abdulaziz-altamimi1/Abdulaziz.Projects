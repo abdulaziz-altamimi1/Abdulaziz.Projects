{
 "cells": [
  {
   "cell_type": "code",
   "execution_count": null,
   "id": "524b0126",
   "metadata": {},
   "outputs": [],
   "source": [
    "#import libraires\n",
    "import pandas as pd\n",
    "import numpy as np\n",
    "import matplotlib.pyplot as plt\n",
    "import seaborn as sns"
   ]
  },
  {
   "cell_type": "code",
   "execution_count": null,
   "id": "7831c327",
   "metadata": {},
   "outputs": [],
   "source": [
    "#read csv file\n",
    "df = pd.read_csv(\"hotel_bookings.csv\")"
   ]
  },
  {
   "cell_type": "code",
   "execution_count": null,
   "id": "62afc103",
   "metadata": {},
   "outputs": [],
   "source": [
    "#Check dataset\n",
    "print(\"Shape:\",df.shape)\n",
    "print(\"Number of duplicated rows:\",df.duplicated().sum())\n",
    "print(\"Number of Null value:\\n\",df.isnull().sum())"
   ]
  },
  {
   "cell_type": "code",
   "execution_count": null,
   "id": "1eeb065f",
   "metadata": {},
   "outputs": [],
   "source": [
    "#drop duplicated rows\n",
    "df=df.drop_duplicates()"
   ]
  },
  {
   "cell_type": "code",
   "execution_count": null,
   "id": "885ffd83",
   "metadata": {},
   "outputs": [],
   "source": [
    "#fill null value in children column wiht 0\n",
    "df['children'] = df['children'].fillna(0)"
   ]
  },
  {
   "cell_type": "code",
   "execution_count": null,
   "id": "d627ee08",
   "metadata": {},
   "outputs": [],
   "source": [
    "#drop null value in country column\n",
    "df=df.dropna(subset='country')"
   ]
  },
  {
   "cell_type": "code",
   "execution_count": null,
   "id": "c0c13f80",
   "metadata": {},
   "outputs": [],
   "source": [
    "#list of columns in the dataset\n",
    "df.columns.to_list()"
   ]
  },
  {
   "cell_type": "code",
   "execution_count": null,
   "id": "ffec510a",
   "metadata": {},
   "outputs": [],
   "source": [
    "#list frist 5 rows\n",
    "df.head()"
   ]
  },
  {
   "cell_type": "code",
   "execution_count": null,
   "id": "738f08a6",
   "metadata": {},
   "outputs": [],
   "source": [
    "#list last 5 rows\n",
    "df.tail()"
   ]
  },
  {
   "cell_type": "code",
   "execution_count": null,
   "id": "eea4446b",
   "metadata": {},
   "outputs": [],
   "source": [
    "#descriptive statistics\n",
    "df.describe()"
   ]
  },
  {
   "cell_type": "code",
   "execution_count": null,
   "id": "64236693",
   "metadata": {},
   "outputs": [],
   "source": [
    "#summary of a DataFrame\n",
    "df.info()"
   ]
  },
  {
   "cell_type": "code",
   "execution_count": null,
   "id": "afedc469",
   "metadata": {},
   "outputs": [],
   "source": [
    "#The different reservation status between different hotels\n",
    "plt.figure(figsize=(8, 8),facecolor=\"azure\")\n",
    "sns.set_style(\"whitegrid\")\n",
    "sns.countplot(x='hotel',hue='is_canceled',data=df)\n",
    "\n",
    "# Set legend outside the plot for clarity\n",
    "plt.title('Reservation Status in Different Hotels', fontsize=18)\n",
    "plt.xlabel('Hotel')\n",
    "plt.ylabel('Number of Reservations')\n",
    "plt.xticks(fontsize=12)\n",
    "plt.yticks(fontsize=12)\n",
    "plt.legend(['Not Canceled', 'Canceled'], title='Status')\n",
    "plt.tight_layout()\n",
    "plt.show()"
   ]
  },
  {
   "cell_type": "code",
   "execution_count": null,
   "id": "38da7dbb",
   "metadata": {},
   "outputs": [],
   "source": [
    "#Top 10 Contries by number of reservations\n",
    "country_count=df.country.value_counts().head(10)\n",
    "\n",
    "country_name={\n",
    "    \"PRT\":\"Portugal\",\"GBR\":\"United Kingdom\",\"FRA\":\"France\",\"ESP\":\"Spain\",\n",
    "    \"DEU\":\"Germany\",\"ITA\":\"Italy\",\"IRL\":\"Ireland\",\n",
    "    \"BEL\":\"Belgium\",\"BRA\":\"Brazil\",\"NLD\":\"Netherlands\"\n",
    "}\n",
    "country_count.index=country_count.index.map(lambda name : country_name.get(name,name)) \n",
    "\n",
    "plt.figure(figsize=(10,8),facecolor=\"azure\")\n",
    "sns.barplot(x=country_count.index,y=country_count.values)\n",
    "plt.title(\"Top 10 Countries by Number of Reservations\",fontsize=18)\n",
    "plt.xlabel(\"Countries\")\n",
    "plt.ylabel(\"Number of Reservations\")\n",
    "plt.tight_layout()\n",
    "plt.show()"
   ]
  },
  {
   "cell_type": "code",
   "execution_count": null,
   "id": "73ebdd33",
   "metadata": {},
   "outputs": [],
   "source": [
    "#Top 10 Contries by number of reservation cancellations \n",
    "# Filter for canceled reservations\n",
    "cancelled_data = df[df['is_canceled'] == 1]\n",
    "\n",
    "# Get top 10 countries by number of cancellations\n",
    "top_10_country = cancelled_data['country'].value_counts().head(10)\n",
    "\n",
    "plt.figure(figsize=(8, 8),facecolor=\"lightblue\")\n",
    "plt.title('Top 10 Countries with Reservation Cancellations', fontsize=18)\n",
    "\n",
    "# Pie chart\n",
    "plt.pie(top_10_country,autopct='%.2f%%',labels=top_10_country.index)\n",
    "\n",
    "plt.tight_layout()\n",
    "plt.show()"
   ]
  },
  {
   "cell_type": "code",
   "execution_count": null,
   "id": "3f70b1ec",
   "metadata": {},
   "outputs": [],
   "source": [
    "#number of monthly customer in different hotels \n",
    "# columns used - arrival_date_month, arrival_date_year, hotel\n",
    "monthly_customer = df.groupby([\"hotel\",\"arrival_date_year\", \"arrival_date_month\"]).size().reset_index()\n",
    "monthly_customer.columns = [\"hotel\", \"arrival_date_year\", \"arrival_date_month\", \"customer_count\"]\n",
    "# Use short month labels\n",
    "monthly_customer[\"month_str\"] = monthly_customer[\"arrival_date_month\"].str[:3]\n",
    "monthly_customer[\"month_year_label\"] = monthly_customer[\"month_str\"] + \" \" + monthly_customer[\"arrival_date_year\"].astype(str)\n",
    "\n",
    "# Sort Date\n",
    "monthly_customer[\"sort_date\"] = pd.to_datetime(monthly_customer[\"arrival_date_year\"].astype(str) + \"-\" + monthly_customer[\"arrival_date_month\"], format=\"%Y-%B\")\n",
    "monthly_customer = monthly_customer.sort_values(\"sort_date\")\n",
    "\n",
    "# Plot\n",
    "plt.figure(figsize=(14, 6),facecolor=\"azure\")\n",
    "sns.barplot(data=monthly_customer[monthly_customer[\"hotel\"] == \"City Hotel\"],x=\"month_year_label\", y=\"customer_count\")\n",
    "plt.title(\"City Hotel Monthly Customers\",fontsize=18)\n",
    "plt.xlabel(\"Date\")\n",
    "plt.ylabel(\"Customer Count\")\n",
    "plt.xticks(rotation=45)\n",
    "plt.tight_layout()\n",
    "plt.show()\n",
    "\n",
    "plt.figure(figsize=(14, 6),facecolor=\"azure\")\n",
    "sns.barplot(data=monthly_customer[monthly_customer[\"hotel\"] == \"Resort Hotel\"],x=\"month_year_label\", y=\"customer_count\")\n",
    "plt.title(\"Resort Hotel Monthly Customers\",fontsize=18)\n",
    "plt.xlabel(\"Date\")\n",
    "plt.ylabel(\"Customer Count\")\n",
    "plt.xticks(rotation=45)\n",
    "plt.tight_layout()\n",
    "plt.show()"
   ]
  },
  {
   "cell_type": "code",
   "execution_count": null,
   "id": "cf5a0c9d",
   "metadata": {},
   "outputs": [],
   "source": [
    "#Histogram for Average Daily Rate ADR\n",
    "plt.figure(figsize=(8,8), facecolor='azure')\n",
    "\n",
    "sns.histplot(df['adr'] ,kde=True, color='skyblue')\n",
    "plt.title('Histogram of Average Daily Rate',fontsize=18)\n",
    "plt.xlabel(\"Average Daily Rate\")\n",
    "plt.ylabel(\"Frequence\")\n",
    "plt.xlim(0, 500)\n",
    "plt.tight_layout()\n",
    "plt.show()"
   ]
  },
  {
   "cell_type": "code",
   "execution_count": null,
   "id": "b3c8d4cd",
   "metadata": {},
   "outputs": [],
   "source": [
    "#Boxplot for detecting outliers\n",
    "plt.figure(figsize=(8,8), facecolor='azure')\n",
    "\n",
    "sns.boxplot(x=df['adr'],color=\"lightblue\")\n",
    "plt.title(\"Boxplot of Average Daily Rate\",fontsize=18)\n",
    "plt.xlabel(\"Average Daily Rate\")\n",
    "plt.tight_layout()\n",
    "plt.show()"
   ]
  },
  {
   "cell_type": "code",
   "execution_count": null,
   "id": "c3e3c390",
   "metadata": {},
   "outputs": [],
   "source": [
    "#correlation between variables\n",
    "numeric_data = df.select_dtypes(include=\"number\").corr()\n",
    "\n",
    "plt.figure(figsize=(15,8), facecolor='azure')\n",
    "sns.heatmap(numeric_data , annot=True, cmap='coolwarm', fmt=\".2f\")\n",
    "plt.title('Correlation Heatmap Between Numeric Variables',fontsize=18)\n",
    "plt.tight_layout()\n",
    "plt.show()"
   ]
  },
  {
   "cell_type": "code",
   "execution_count": null,
   "id": "15bdabf7",
   "metadata": {},
   "outputs": [],
   "source": [
    "# Line chart for customer reservation all time\n",
    "plt.figure(figsize=(14, 6),facecolor=\"azure\")\n",
    "sns.lineplot(data=monthly_customer,x=\"month_year_label\", y=\"customer_count\")\n",
    "plt.title(\"Customer Reservation Trend\",fontsize=18)\n",
    "plt.xlabel(\"Date\")\n",
    "plt.ylabel(\"Customer Count\")\n",
    "plt.xticks(rotation=45)\n",
    "plt.tight_layout()\n",
    "plt.show()"
   ]
  }
 ],
 "metadata": {
  "kernelspec": {
   "display_name": "Python 3",
   "language": "python",
   "name": "python3"
  },
  "language_info": {
   "codemirror_mode": {
    "name": "ipython",
    "version": 3
   },
   "file_extension": ".py",
   "mimetype": "text/x-python",
   "name": "python",
   "nbconvert_exporter": "python",
   "pygments_lexer": "ipython3",
   "version": "3.13.5"
  }
 },
 "nbformat": 4,
 "nbformat_minor": 5
}
