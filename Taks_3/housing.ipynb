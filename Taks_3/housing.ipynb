{
 "cells": [
  {
   "cell_type": "code",
   "execution_count": null,
   "id": "4ba82018",
   "metadata": {},
   "outputs": [],
   "source": [
    "#import libraires\n",
    "import pandas as pd\n",
    "import numpy as nb\n",
    "import matplotlib.pyplot as plt\n",
    "import seaborn as sns\n",
    "import warnings\n",
    "warnings.filterwarnings('ignore')"
   ]
  },
  {
   "cell_type": "code",
   "execution_count": null,
   "id": "8530a607",
   "metadata": {},
   "outputs": [],
   "source": [
    "#read csv file\n",
    "df=pd.read_csv('housing.csv')"
   ]
  },
  {
   "cell_type": "code",
   "execution_count": null,
   "id": "2bd0599c",
   "metadata": {},
   "outputs": [],
   "source": [
    "#Check dataset\n",
    "print(\"The Shape:\",df.shape)\n",
    "print(\"The NULL values:\\n\",df.isnull().sum())\n",
    "print(\"Number of duplicated values\",df.duplicated().sum())"
   ]
  },
  {
   "cell_type": "code",
   "execution_count": null,
   "id": "7ab01363",
   "metadata": {},
   "outputs": [],
   "source": [
    "#identify rows with any missing values\n",
    "df[df.isnull().any(axis=1)]"
   ]
  },
  {
   "cell_type": "code",
   "execution_count": null,
   "id": "982991f6",
   "metadata": {},
   "outputs": [],
   "source": [
    "#fill the total_bedrooms columns\n",
    "df.total_bedrooms.fillna(df.total_bedrooms.mean().round(2),inplace=True)"
   ]
  },
  {
   "cell_type": "code",
   "execution_count": null,
   "id": "b140b80a",
   "metadata": {},
   "outputs": [],
   "source": [
    "#list of columns in the dataset\n",
    "df.columns.to_list()"
   ]
  },
  {
   "cell_type": "code",
   "execution_count": null,
   "id": "4df6c1ac",
   "metadata": {},
   "outputs": [],
   "source": [
    "#descriptive statistics\n",
    "df.describe()"
   ]
  },
  {
   "cell_type": "code",
   "execution_count": null,
   "id": "c43b2ed3",
   "metadata": {},
   "outputs": [],
   "source": [
    "#summary of a DataFrame\n",
    "df.info()"
   ]
  },
  {
   "cell_type": "code",
   "execution_count": null,
   "id": "90e1cc1f",
   "metadata": {},
   "outputs": [],
   "source": [
    "#list frist 5 rows\n",
    "df.head()"
   ]
  },
  {
   "cell_type": "code",
   "execution_count": null,
   "id": "0b2a2cdf",
   "metadata": {},
   "outputs": [],
   "source": [
    "#list last 5 rows\n",
    "df.tail()"
   ]
  },
  {
   "cell_type": "code",
   "execution_count": null,
   "id": "40ff7bd8",
   "metadata": {},
   "outputs": [],
   "source": [
    "#Histogram for Median Income\n",
    "plt.figure(figsize=(8,10), facecolor='azure')\n",
    "sns.set_style('whitegrid')\n",
    "sns.histplot(df['median_income'], color='skyblue')\n",
    "plt.title(\"Median Income (scaled to $10000)\",fontsize=18)\n",
    "plt.xlabel(\"Median\")\n",
    "plt.ylabel(\"Frequence\")\n",
    "plt.tight_layout()\n",
    "plt.show()"
   ]
  },
  {
   "cell_type": "code",
   "execution_count": null,
   "id": "8e30e706",
   "metadata": {},
   "outputs": [],
   "source": [
    "#Boxplot for detecting outliers\n",
    "plt.figure(figsize=(12,8),facecolor='azure')\n",
    "sns.boxplot(x=df['median_house_value'], color='lightblue')\n",
    "plt.title(\"Boxplot of Median House Prices\",fontsize=18)\n",
    "plt.xlabel(\"Median House Prices\")\n",
    "plt.tight_layout()\n",
    "plt.show()"
   ]
  },
  {
   "cell_type": "code",
   "execution_count": null,
   "id": "e48072f6",
   "metadata": {},
   "outputs": [],
   "source": [
    "#correlation between variables\n",
    "numeric= df.select_dtypes(include='number').corr().round(2)\n",
    "\n",
    "plt.figure(figsize=(12,8),facecolor='azure')\n",
    "sns.heatmap(data=numeric , annot=True, cmap='coolwarm', cbar=False)\n",
    "plt.title('Correlation Heatmap Between Numeric Variables',fontsize=18)\n",
    "plt.tight_layout()\n",
    "plt.show()\n"
   ]
  }
 ],
 "metadata": {
  "kernelspec": {
   "display_name": "Python 3",
   "language": "python",
   "name": "python3"
  },
  "language_info": {
   "codemirror_mode": {
    "name": "ipython",
    "version": 3
   },
   "file_extension": ".py",
   "mimetype": "text/x-python",
   "name": "python",
   "nbconvert_exporter": "python",
   "pygments_lexer": "ipython3",
   "version": "3.13.5"
  }
 },
 "nbformat": 4,
 "nbformat_minor": 5
}
