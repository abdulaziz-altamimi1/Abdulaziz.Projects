{
 "cells": [
  {
   "cell_type": "code",
   "execution_count": null,
   "id": "43588e01",
   "metadata": {},
   "outputs": [],
   "source": [
    "#import libraires\n",
    "import pandas as pd\n",
    "import numpy as np\n",
    "import matplotlib.pyplot as plt\n",
    "import seaborn as sns\n",
    "from sklearn.model_selection import train_test_split\n",
    "from sklearn.ensemble import RandomForestClassifier\n",
    "from sklearn.linear_model import LogisticRegression\n",
    "from sklearn import metrics\n",
    "from sklearn import preprocessing"
   ]
  },
  {
   "cell_type": "code",
   "execution_count": null,
   "id": "fc8a3786",
   "metadata": {},
   "outputs": [],
   "source": [
    "#read csv file and concat\n",
    "train = pd.read_csv('train.csv')\n",
    "test = pd.read_csv('test.csv')\n",
    "df=pd.concat([train,test],axis=0)\n",
    "# Drop the auto-generated index column\n",
    "df.drop(['Unnamed: 0','id'], axis=1,inplace=True)"
   ]
  },
  {
   "cell_type": "code",
   "execution_count": null,
   "id": "f5d12030",
   "metadata": {},
   "outputs": [],
   "source": [
    "#Check dataset\n",
    "print(\"The Shape:\",df.shape)\n",
    "print(\"The NULL values:\\n\",df.isnull().sum())\n",
    "print(\"Number of duplicated values\",df.duplicated().sum())"
   ]
  },
  {
   "cell_type": "code",
   "execution_count": null,
   "id": "11984bf9",
   "metadata": {},
   "outputs": [],
   "source": [
    "# drop null values\n",
    "df.dropna(inplace=True)"
   ]
  },
  {
   "cell_type": "code",
   "execution_count": null,
   "id": "dc2aab6c",
   "metadata": {},
   "outputs": [],
   "source": [
    "#descriptive statistics\n",
    "df.describe()"
   ]
  },
  {
   "cell_type": "code",
   "execution_count": null,
   "id": "53a48259",
   "metadata": {},
   "outputs": [],
   "source": [
    "#summary of a DataFrame\n",
    "df.info()"
   ]
  },
  {
   "cell_type": "code",
   "execution_count": null,
   "id": "f05cda52",
   "metadata": {},
   "outputs": [],
   "source": [
    "# satisfaction\n",
    "plt.figure(figsize=(10,8), facecolor='azure')\n",
    "plt.title('Satisfaction')\n",
    "sns.countplot(x='satisfaction', data=df)\n",
    "plt.tight_layout()\n",
    "plt.show()"
   ]
  },
  {
   "cell_type": "code",
   "execution_count": null,
   "id": "6a5f18e0",
   "metadata": {},
   "outputs": [],
   "source": [
    "# select all categorical variables\n",
    "df_categorical = df.select_dtypes(include=['object'])"
   ]
  },
  {
   "cell_type": "code",
   "execution_count": null,
   "id": "98b81120",
   "metadata": {},
   "outputs": [],
   "source": [
    "# apply Label encoder to df_categorical\n",
    "enc= preprocessing.LabelEncoder()\n",
    "df_categorical = df_categorical.apply(enc.fit_transform)\n",
    "df.drop(df_categorical.columns, axis=1, inplace=True)\n",
    "df = pd.concat([df, df_categorical], axis=1)"
   ]
  },
  {
   "cell_type": "code",
   "execution_count": null,
   "id": "e982b6ec",
   "metadata": {},
   "outputs": [],
   "source": [
    "#list of columns in the dataset\n",
    "df.columns.to_list"
   ]
  },
  {
   "cell_type": "code",
   "execution_count": null,
   "id": "762728c4",
   "metadata": {},
   "outputs": [],
   "source": [
    "# Define features and target variable\n",
    "X=df.drop('satisfaction',axis=1)\n",
    "y=df['satisfaction']"
   ]
  },
  {
   "cell_type": "code",
   "execution_count": null,
   "id": "0b1b9c35",
   "metadata": {},
   "outputs": [],
   "source": [
    "# Split data into training and testing sets (70% train, 30% test)\n",
    "X_train,X_test,y_train,y_test= train_test_split(X, y ,test_size=.3, random_state=42)"
   ]
  },
  {
   "cell_type": "code",
   "execution_count": null,
   "id": "c9b4cc3b",
   "metadata": {},
   "outputs": [],
   "source": [
    "# 1. Logistic Regression\n",
    "log=LogisticRegression(max_iter=1000, random_state=42)\n",
    "# Train on training set\n",
    "log.fit(X_train,y_train)"
   ]
  },
  {
   "cell_type": "code",
   "execution_count": null,
   "id": "cc902830",
   "metadata": {},
   "outputs": [],
   "source": [
    "# Predict on test set\n",
    "log_pred=log.predict(X_test)"
   ]
  },
  {
   "cell_type": "code",
   "execution_count": null,
   "id": "48580cf8",
   "metadata": {},
   "outputs": [],
   "source": [
    "# Calculate performance metrics for Logistic Regression\n",
    "print(\"Logistic Regression Matrices:\")\n",
    "print(\"Random Forest Classifier Matrices:\")\n",
    "print(\"Accuracy Score:\",round(metrics.accuracy_score(y_test,log_pred),3))\n",
    "print('Precission_score:',round(metrics.precision_score(y_test,log_pred),3))\n",
    "print('Recall score:',round(metrics.recall_score(y_test,log_pred),3))\n",
    "print('F1-score:',round(metrics.f1_score(y_test,log_pred),3))"
   ]
  },
  {
   "cell_type": "code",
   "execution_count": null,
   "id": "88a9d729",
   "metadata": {},
   "outputs": [],
   "source": [
    "# 2. Random Forest Classifier\n",
    "rand = RandomForestClassifier(random_state=42)\n",
    "# Train on training set\n",
    "rand.fit(X_train, y_train)"
   ]
  },
  {
   "cell_type": "code",
   "execution_count": null,
   "id": "514188d4",
   "metadata": {},
   "outputs": [],
   "source": [
    "# Predict on test set\n",
    "rand_pred = rand.predict(X_test)"
   ]
  },
  {
   "cell_type": "code",
   "execution_count": null,
   "id": "ad7b0ee2",
   "metadata": {},
   "outputs": [],
   "source": [
    "# Calculate performance metrics for Random Forest Classifier\n",
    "print(\"Random Forest Classifier Matrices:\")\n",
    "print(\"Accuracy Score:\",round(metrics.accuracy_score(y_test,rand_pred),3))\n",
    "print('Precission_score:',round(metrics.precision_score(y_test,rand_pred),3))\n",
    "print('Recall score:',round(metrics.recall_score(y_test,rand_pred),3))\n",
    "print('F1-score:',round(metrics.f1_score(y_test,rand_pred),3))"
   ]
  },
  {
   "cell_type": "code",
   "execution_count": null,
   "id": "e852f9f8",
   "metadata": {},
   "outputs": [],
   "source": [
    "# Confusion Matrices\n",
    "log_cm=metrics.confusion_matrix(y_test,log_pred)\n",
    "rand_cm=metrics.confusion_matrix(y_test,rand_pred)\n",
    "fig, (ax1,ax2) = plt.subplots(1, 2, figsize=(12,5),facecolor='azure')\n",
    "sns.heatmap(log_cm, annot=True, fmt='d', ax=ax1, cmap='Blues')\n",
    "ax1.set_title('Logistic Regression Confusion Matrix')\n",
    "ax1.set_xlabel('Predicted')\n",
    "ax1.set_ylabel('Actual')\n",
    "sns.heatmap(rand_cm, annot=True, fmt='d', ax=ax2, cmap='Blues',cbar=False)\n",
    "ax2.set_title('Random Forest Classifier Confusion Matrix')\n",
    "ax2.set_xlabel('Predicted')\n",
    "ax2.set_ylabel('Actual')\n",
    "plt.tight_layout()\n",
    "plt.show()"
   ]
  },
  {
   "cell_type": "code",
   "execution_count": null,
   "id": "52401609",
   "metadata": {},
   "outputs": [],
   "source": [
    "# visualize correlations between all features\n",
    "plt.figure(figsize=(15,10))\n",
    "corr = pd.concat([X_train, y_train], axis=1).corr().round(2)\n",
    "sns.heatmap(corr, annot=True)\n",
    "plt.title(\"Feature Correlation Matrix\")\n",
    "plt.tight_layout()\n",
    "plt.show()"
   ]
  }
 ],
 "metadata": {
  "kernelspec": {
   "display_name": "Python 3",
   "language": "python",
   "name": "python3"
  },
  "language_info": {
   "codemirror_mode": {
    "name": "ipython",
    "version": 3
   },
   "file_extension": ".py",
   "mimetype": "text/x-python",
   "name": "python",
   "nbconvert_exporter": "python",
   "pygments_lexer": "ipython3",
   "version": "3.13.0"
  }
 },
 "nbformat": 4,
 "nbformat_minor": 5
}
