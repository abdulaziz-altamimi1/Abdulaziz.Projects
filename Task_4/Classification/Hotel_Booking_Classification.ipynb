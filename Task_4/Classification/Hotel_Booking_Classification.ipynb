{
 "cells": [
  {
   "cell_type": "code",
   "execution_count": null,
   "id": "524b0126",
   "metadata": {},
   "outputs": [],
   "source": [
    "#import libraires\n",
    "import pandas as pd\n",
    "import numpy as np\n",
    "import matplotlib.pyplot as plt\n",
    "import seaborn as sns\n",
    "from sklearn.model_selection import train_test_split\n",
    "from sklearn.ensemble import RandomForestClassifier\n",
    "from sklearn.linear_model import LogisticRegression\n",
    "from sklearn import metrics\n",
    "from sklearn import preprocessing"
   ]
  },
  {
   "cell_type": "code",
   "execution_count": null,
   "id": "7831c327",
   "metadata": {},
   "outputs": [],
   "source": [
    "#read csv file\n",
    "df = pd.read_csv(\"hotel_bookings.csv\")"
   ]
  },
  {
   "cell_type": "code",
   "execution_count": null,
   "id": "62afc103",
   "metadata": {},
   "outputs": [],
   "source": [
    "#Check dataset\n",
    "print(\"Shape:\",df.shape)\n",
    "print(\"Number of duplicated rows:\",df.duplicated().sum())\n",
    "print(\"Number of Null value:\\n\",df.isnull().sum())"
   ]
  },
  {
   "cell_type": "code",
   "execution_count": null,
   "id": "1eeb065f",
   "metadata": {},
   "outputs": [],
   "source": [
    "#drop duplicated rows\n",
    "df=df.drop_duplicates()"
   ]
  },
  {
   "cell_type": "code",
   "execution_count": null,
   "id": "885ffd83",
   "metadata": {},
   "outputs": [],
   "source": [
    "#fill null value in children column wiht 0\n",
    "fill= {\"agent\": 0, \"company\": 0}\n",
    "df= df.fillna(fill)\n",
    "df['children']=df['children'].fillna(0)"
   ]
  },
  {
   "cell_type": "code",
   "execution_count": null,
   "id": "785c5991",
   "metadata": {},
   "outputs": [],
   "source": [
    "print(\"Number of Null value:\\n\",df.isnull().sum())"
   ]
  },
  {
   "cell_type": "code",
   "execution_count": null,
   "id": "d627ee08",
   "metadata": {},
   "outputs": [],
   "source": [
    "#drop null value in country column\n",
    "df=df.dropna(subset='country')"
   ]
  },
  {
   "cell_type": "code",
   "execution_count": null,
   "id": "c0c13f80",
   "metadata": {},
   "outputs": [],
   "source": [
    "#list of columns in the dataset\n",
    "df.columns.to_list()"
   ]
  },
  {
   "cell_type": "code",
   "execution_count": null,
   "id": "1baa2ec8",
   "metadata": {},
   "outputs": [],
   "source": [
    "#drop unnecessary columns without droping reservation_status\n",
    "drop_cols1=[\n",
    " 'arrival_date_year',\n",
    " 'arrival_date_month',\n",
    " 'arrival_date_week_number',\n",
    " 'arrival_date_day_of_month',\n",
    " 'agent',\n",
    " 'company']\n",
    "\n",
    "data1=df.drop(drop_cols1,axis=1)"
   ]
  },
  {
   "cell_type": "code",
   "execution_count": null,
   "id": "aa0e1c83",
   "metadata": {},
   "outputs": [],
   "source": [
    "#drop unnecessary columns with droping reservation_status\n",
    "drop_cols2=[\n",
    " 'arrival_date_year',\n",
    " 'arrival_date_month',\n",
    " 'arrival_date_week_number',\n",
    " 'arrival_date_day_of_month',\n",
    " 'agent',\n",
    " 'company',\n",
    " 'reservation_status']\n",
    "\n",
    "data2=df.drop(drop_cols2,axis=1)"
   ]
  },
  {
   "cell_type": "code",
   "execution_count": null,
   "id": "ffec510a",
   "metadata": {},
   "outputs": [],
   "source": [
    "#list frist 5 rows\n",
    "df.head()"
   ]
  },
  {
   "cell_type": "code",
   "execution_count": null,
   "id": "738f08a6",
   "metadata": {},
   "outputs": [],
   "source": [
    "#list last 5 rows\n",
    "df.tail()"
   ]
  },
  {
   "cell_type": "code",
   "execution_count": null,
   "id": "eea4446b",
   "metadata": {},
   "outputs": [],
   "source": [
    "#descriptive statistics\n",
    "df.describe()"
   ]
  },
  {
   "cell_type": "code",
   "execution_count": null,
   "id": "64236693",
   "metadata": {},
   "outputs": [],
   "source": [
    "#summary of a DataFrame\n",
    "df.info()"
   ]
  },
  {
   "cell_type": "code",
   "execution_count": null,
   "id": "afedc469",
   "metadata": {},
   "outputs": [],
   "source": [
    "#The different reservation status between different hotels\n",
    "plt.figure(figsize=(8, 8),facecolor=\"azure\")\n",
    "sns.set_style(\"whitegrid\")\n",
    "sns.countplot(x='hotel',hue='is_canceled',data=df)\n",
    "\n",
    "# Set legend outside the plot for clarity\n",
    "plt.title('Reservation Status in Different Hotels', fontsize=18)\n",
    "plt.xlabel('Hotel')\n",
    "plt.ylabel('Number of Reservations')\n",
    "plt.xticks(fontsize=12)\n",
    "plt.yticks(fontsize=12)\n",
    "plt.legend(['Not Canceled', 'Canceled'], title='Status')\n",
    "plt.tight_layout()\n",
    "plt.show()"
   ]
  },
  {
   "cell_type": "code",
   "execution_count": null,
   "id": "38da7dbb",
   "metadata": {},
   "outputs": [],
   "source": [
    "#Top 10 Contries by number of reservations\n",
    "country_count=df.country.value_counts().head(10)\n",
    "\n",
    "country_name={\n",
    "    \"PRT\":\"Portugal\",\"GBR\":\"United Kingdom\",\"FRA\":\"France\",\"ESP\":\"Spain\",\n",
    "    \"DEU\":\"Germany\",\"ITA\":\"Italy\",\"IRL\":\"Ireland\",\n",
    "    \"BEL\":\"Belgium\",\"BRA\":\"Brazil\",\"NLD\":\"Netherlands\"\n",
    "}\n",
    "country_count.index=country_count.index.map(lambda name : country_name.get(name,name)) \n",
    "\n",
    "plt.figure(figsize=(10,8),facecolor=\"azure\")\n",
    "sns.barplot(x=country_count.index,y=country_count.values)\n",
    "plt.title(\"Top 10 Countries by Number of Reservations\",fontsize=18)\n",
    "plt.xlabel(\"Countries\")\n",
    "plt.ylabel(\"Number of Reservations\")\n",
    "plt.tight_layout()\n",
    "plt.show()"
   ]
  },
  {
   "cell_type": "code",
   "execution_count": null,
   "id": "73ebdd33",
   "metadata": {},
   "outputs": [],
   "source": [
    "#Top 10 Contries by number of reservation cancellations \n",
    "# Filter for canceled reservations\n",
    "cancelled_data = df[df['is_canceled'] == 1]\n",
    "\n",
    "# Get top 10 countries by number of cancellations\n",
    "top_10_country = cancelled_data['country'].value_counts().head(10)\n",
    "\n",
    "plt.figure(figsize=(8, 8),facecolor=\"lightblue\")\n",
    "plt.title('Top 10 Countries with Reservation Cancellations', fontsize=18)\n",
    "\n",
    "# Pie chart\n",
    "plt.pie(top_10_country,autopct='%.2f%%',labels=top_10_country.index)\n",
    "\n",
    "plt.tight_layout()\n",
    "plt.show()"
   ]
  },
  {
   "cell_type": "code",
   "execution_count": null,
   "id": "3f70b1ec",
   "metadata": {},
   "outputs": [],
   "source": [
    "#number of monthly customer in different hotels \n",
    "# columns used - arrival_date_month, arrival_date_year, hotel\n",
    "monthly_customer = df.groupby([\"hotel\",\"arrival_date_year\", \"arrival_date_month\"]).size().reset_index()\n",
    "monthly_customer.columns = [\"hotel\", \"arrival_date_year\", \"arrival_date_month\", \"customer_count\"]\n",
    "# Use short month labels\n",
    "monthly_customer[\"month_str\"] = monthly_customer[\"arrival_date_month\"].str[:3]\n",
    "monthly_customer[\"month_year_label\"] = monthly_customer[\"month_str\"] + \" \" + monthly_customer[\"arrival_date_year\"].astype(str)\n",
    "\n",
    "# Sort Date\n",
    "monthly_customer[\"sort_date\"] = pd.to_datetime(monthly_customer[\"arrival_date_year\"].astype(str) + \"-\" + monthly_customer[\"arrival_date_month\"], format=\"%Y-%B\")\n",
    "monthly_customer = monthly_customer.sort_values(\"sort_date\")\n",
    "\n",
    "# Plot\n",
    "plt.figure(figsize=(14, 6),facecolor=\"azure\")\n",
    "sns.barplot(data=monthly_customer[monthly_customer[\"hotel\"] == \"City Hotel\"],x=\"month_year_label\", y=\"customer_count\")\n",
    "plt.title(\"City Hotel Monthly Customers\",fontsize=18)\n",
    "plt.xlabel(\"Date\")\n",
    "plt.ylabel(\"Customer Count\")\n",
    "plt.xticks(rotation=45)\n",
    "plt.tight_layout()\n",
    "plt.show()\n",
    "\n",
    "plt.figure(figsize=(14, 6),facecolor=\"azure\")\n",
    "sns.barplot(data=monthly_customer[monthly_customer[\"hotel\"] == \"Resort Hotel\"],x=\"month_year_label\", y=\"customer_count\")\n",
    "plt.title(\"Resort Hotel Monthly Customers\",fontsize=18)\n",
    "plt.xlabel(\"Date\")\n",
    "plt.ylabel(\"Customer Count\")\n",
    "plt.xticks(rotation=45)\n",
    "plt.tight_layout()\n",
    "plt.show()"
   ]
  },
  {
   "cell_type": "code",
   "execution_count": null,
   "id": "cf5a0c9d",
   "metadata": {},
   "outputs": [],
   "source": [
    "#Histogram for Average Daily Rate ADR\n",
    "plt.figure(figsize=(8,8), facecolor='azure')\n",
    "\n",
    "sns.histplot(df['adr'] ,kde=True, color='skyblue')\n",
    "plt.title('Histogram of Average Daily Rate',fontsize=18)\n",
    "plt.xlabel(\"Average Daily Rate\")\n",
    "plt.ylabel(\"Frequence\")\n",
    "plt.xlim(0, 500)\n",
    "plt.tight_layout()\n",
    "plt.show()"
   ]
  },
  {
   "cell_type": "code",
   "execution_count": null,
   "id": "b3c8d4cd",
   "metadata": {},
   "outputs": [],
   "source": [
    "#Boxplot for detecting outliers\n",
    "plt.figure(figsize=(8,8), facecolor='azure')\n",
    "\n",
    "sns.boxplot(x=df['adr'],color=\"lightblue\")\n",
    "plt.title(\"Boxplot of Average Daily Rate\",fontsize=18)\n",
    "plt.xlabel(\"Average Daily Rate\")\n",
    "plt.tight_layout()\n",
    "plt.show()"
   ]
  },
  {
   "cell_type": "code",
   "execution_count": null,
   "id": "c3e3c390",
   "metadata": {},
   "outputs": [],
   "source": [
    "#correlation between variables\n",
    "numeric_data = df.select_dtypes(include=\"number\").corr()\n",
    "\n",
    "plt.figure(figsize=(15,8), facecolor='azure')\n",
    "sns.heatmap(numeric_data , annot=True, cmap='coolwarm', fmt=\".2f\")\n",
    "plt.title('Correlation Heatmap Between Numeric Variables',fontsize=18)\n",
    "plt.tight_layout()\n",
    "plt.show()"
   ]
  },
  {
   "cell_type": "code",
   "execution_count": null,
   "id": "15bdabf7",
   "metadata": {},
   "outputs": [],
   "source": [
    "# Line chart for customer reservation all time\n",
    "plt.figure(figsize=(14, 6),facecolor=\"azure\")\n",
    "sns.lineplot(data=monthly_customer,x=\"month_year_label\", y=\"customer_count\")\n",
    "plt.title(\"Customer Reservation Trend\",fontsize=18)\n",
    "plt.xlabel(\"Date\")\n",
    "plt.ylabel(\"Customer Count\")\n",
    "plt.xticks(rotation=45)\n",
    "plt.tight_layout()\n",
    "plt.show()"
   ]
  },
  {
   "cell_type": "markdown",
   "id": "8d896d02",
   "metadata": {},
   "source": [
    "# Model 1 With Reservation Status"
   ]
  },
  {
   "cell_type": "code",
   "execution_count": null,
   "id": "ad229ccd",
   "metadata": {},
   "outputs": [],
   "source": [
    "# select all categorical variables\n",
    "df_categorical1 = data1.select_dtypes(include=['object'])\n",
    "df_categorical1.head()"
   ]
  },
  {
   "cell_type": "code",
   "execution_count": null,
   "id": "ead0f3d4",
   "metadata": {},
   "outputs": [],
   "source": [
    "# apply Label encoder to df_categorical\n",
    "enc= preprocessing.LabelEncoder()\n",
    "df_categorical1 = df_categorical1.apply(enc.fit_transform)\n",
    "df_categorical1.head()\n"
   ]
  },
  {
   "cell_type": "code",
   "execution_count": null,
   "id": "fb57d693",
   "metadata": {},
   "outputs": [],
   "source": [
    "#concat with encoder\n",
    "data1.drop(df_categorical1.columns, axis=1, inplace=True)\n",
    "data1 = pd.concat([data1, df_categorical1], axis=1)\n",
    "data1.head()"
   ]
  },
  {
   "cell_type": "code",
   "execution_count": null,
   "id": "007ebcae",
   "metadata": {},
   "outputs": [],
   "source": [
    "# Define features and target variable\n",
    "X1=data1.drop('is_canceled',axis=1)\n",
    "y1=data1['is_canceled']"
   ]
  },
  {
   "cell_type": "code",
   "execution_count": null,
   "id": "48e78561",
   "metadata": {},
   "outputs": [],
   "source": [
    "# Split data into training and testing sets (70% train, 30% test)\n",
    "X_train,X_test, y_train, y_test= train_test_split(X1, y1, test_size=.3, random_state=42)"
   ]
  },
  {
   "cell_type": "code",
   "execution_count": null,
   "id": "9b605218",
   "metadata": {},
   "outputs": [],
   "source": [
    "# 1. Logistic Regression\n",
    "log1=LogisticRegression(max_iter=1000, random_state=42)\n",
    "# Train on training set\n",
    "log1.fit(X_train,y_train)"
   ]
  },
  {
   "cell_type": "code",
   "execution_count": null,
   "id": "78ccb4dc",
   "metadata": {},
   "outputs": [],
   "source": [
    "# Predict on test set\n",
    "log1_pred= log1.predict(X_test)"
   ]
  },
  {
   "cell_type": "code",
   "execution_count": null,
   "id": "2ebf9d61",
   "metadata": {},
   "outputs": [],
   "source": [
    "# Calculate performance metrics for Logistic Regression\n",
    "print(\"Logistic Regression Matrices:\")\n",
    "print(\"Accuracy Score:\",round(metrics.accuracy_score(y_test,log1_pred),3))\n",
    "print('Precission_score:',round(metrics.precision_score(y_test,log1_pred),3))\n",
    "print('Recall score:',round(metrics.recall_score(y_test,log1_pred),3))\n",
    "print('F1-score:',round(metrics.f1_score(y_test,log1_pred),3))"
   ]
  },
  {
   "cell_type": "code",
   "execution_count": null,
   "id": "9c94cc89",
   "metadata": {},
   "outputs": [],
   "source": [
    "# 2. Random Forest Classifier\n",
    "rand1= RandomForestClassifier(random_state=42)\n",
    "# Train on training set\n",
    "rand1.fit(X_train, y_train)"
   ]
  },
  {
   "cell_type": "code",
   "execution_count": null,
   "id": "233d501f",
   "metadata": {},
   "outputs": [],
   "source": [
    "# Predict on test set\n",
    "rand1_pred= rand1.predict(X_test)"
   ]
  },
  {
   "cell_type": "code",
   "execution_count": null,
   "id": "6aad7f0c",
   "metadata": {},
   "outputs": [],
   "source": [
    "# Calculate performance metrics for Random Forest Classifier\n",
    "print(\"Random Forest Classifier Matrices:\")\n",
    "print(\"Accuracy Score:\",round(metrics.accuracy_score(y_test,rand1_pred),3))\n",
    "print('Precission_score:',round(metrics.precision_score(y_test,rand1_pred),3))\n",
    "print('Recall score:',round(metrics.recall_score(y_test,rand1_pred),3))\n",
    "print('F1-score:',round(metrics.f1_score(y_test,rand1_pred),3))"
   ]
  },
  {
   "cell_type": "code",
   "execution_count": null,
   "id": "ea2e499c",
   "metadata": {},
   "outputs": [],
   "source": [
    "# Confusion Matrices\n",
    "log1_cm=metrics.confusion_matrix(y_test,log1_pred)\n",
    "rand1_cm=metrics.confusion_matrix(y_test,rand1_pred)\n",
    "fig, (ax1,ax2) = plt.subplots(1, 2, figsize=(12,5),facecolor='azure')\n",
    "sns.heatmap(log1_cm, annot=True, fmt='d', ax=ax1, cmap='Blues')\n",
    "ax1.set_title('Logistic Regression Confusion Matrix')\n",
    "ax1.set_xlabel('Predicted')\n",
    "ax1.set_ylabel('Actual')\n",
    "sns.heatmap(rand1_cm, annot=True, fmt='d', ax=ax2, cmap='Blues',cbar=False)\n",
    "ax2.set_title('Random Forest Classifier Confusion Matrix')\n",
    "ax2.set_xlabel('Predicted')\n",
    "ax2.set_ylabel('Actual')\n",
    "plt.tight_layout()\n",
    "plt.show()"
   ]
  },
  {
   "cell_type": "code",
   "execution_count": null,
   "id": "8e9b1348",
   "metadata": {},
   "outputs": [],
   "source": [
    "# visualize correlations between all features\n",
    "plt.figure(figsize=(15,8), facecolor='azure')\n",
    "sns.heatmap(data1.corr().round(2) , annot=True, cmap='coolwarm')\n",
    "plt.title('Correlation Heatmap Between Numeric Variables',fontsize=18)\n",
    "plt.tight_layout()\n",
    "plt.show()"
   ]
  },
  {
   "cell_type": "markdown",
   "id": "6b69d482",
   "metadata": {},
   "source": [
    "# Model 2 Without Reservation Status"
   ]
  },
  {
   "cell_type": "code",
   "execution_count": null,
   "id": "41e8a877",
   "metadata": {},
   "outputs": [],
   "source": [
    "# select all categorical variables\n",
    "df_categorical2 = data2.select_dtypes(include=['object'])\n",
    "df_categorical2.head()"
   ]
  },
  {
   "cell_type": "code",
   "execution_count": null,
   "id": "6bff2a3a",
   "metadata": {},
   "outputs": [],
   "source": [
    "# apply Label encoder to df_categorical\n",
    "df_categorical2 = df_categorical2.apply(enc.fit_transform)\n",
    "df_categorical2.head()"
   ]
  },
  {
   "cell_type": "code",
   "execution_count": null,
   "id": "029b6a44",
   "metadata": {},
   "outputs": [],
   "source": [
    "#concat with encoder\n",
    "data2.drop(df_categorical2.columns, axis=1, inplace=True)\n",
    "data2 = pd.concat([data2, df_categorical2], axis=1)\n",
    "data2.head()"
   ]
  },
  {
   "cell_type": "code",
   "execution_count": null,
   "id": "29f47810",
   "metadata": {},
   "outputs": [],
   "source": [
    "# Define features and target variable\n",
    "X2=data2.drop('is_canceled',axis=1)\n",
    "y2=data2['is_canceled']"
   ]
  },
  {
   "cell_type": "code",
   "execution_count": null,
   "id": "779ab615",
   "metadata": {},
   "outputs": [],
   "source": [
    "# Split data into training and testing sets (70% train, 30% test)\n",
    "X_train,X_test, y_train, y_test= train_test_split(X2, y2, test_size=.3, random_state=42)"
   ]
  },
  {
   "cell_type": "code",
   "execution_count": null,
   "id": "eb00561a",
   "metadata": {},
   "outputs": [],
   "source": [
    "# 1. Logistic Regression\n",
    "log2=LogisticRegression(max_iter=1000, random_state=42)\n",
    "# Train on training set\n",
    "log2.fit(X_train,y_train)"
   ]
  },
  {
   "cell_type": "code",
   "execution_count": null,
   "id": "1a29eef4",
   "metadata": {},
   "outputs": [],
   "source": [
    "# Predict on test set\n",
    "log2_pred= log2.predict(X_test)"
   ]
  },
  {
   "cell_type": "code",
   "execution_count": null,
   "id": "e6c0bfcf",
   "metadata": {},
   "outputs": [],
   "source": [
    "# Calculate performance metrics for Logistic Regression\n",
    "print(\"Logistic Regression Matrices:\")\n",
    "print(\"Accuracy Score:\",round(metrics.accuracy_score(y_test,log2_pred),3))\n",
    "print('Precission_score:',round(metrics.precision_score(y_test,log2_pred),3))\n",
    "print('Recall score:',round(metrics.recall_score(y_test,log2_pred),3))\n",
    "print('F1-score:',round(metrics.f1_score(y_test,log2_pred),3))"
   ]
  },
  {
   "cell_type": "code",
   "execution_count": null,
   "id": "f836803b",
   "metadata": {},
   "outputs": [],
   "source": [
    "# 2. Random Forest Classifier\n",
    "rand2= RandomForestClassifier(random_state=42)\n",
    "# Train on training set\n",
    "rand2.fit(X_train, y_train)"
   ]
  },
  {
   "cell_type": "code",
   "execution_count": null,
   "id": "bc74f979",
   "metadata": {},
   "outputs": [],
   "source": [
    "# Predict on test set\n",
    "rand2_pred= rand2.predict(X_test)"
   ]
  },
  {
   "cell_type": "code",
   "execution_count": null,
   "id": "41395c66",
   "metadata": {},
   "outputs": [],
   "source": [
    "# Calculate performance metrics for Random Forest Classifier\n",
    "print(\"Random Forest Classifier Matrices:\")\n",
    "print(\"Accuracy Score:\",round(metrics.accuracy_score(y_test,rand2_pred),3))\n",
    "print('Precission_score:',round(metrics.precision_score(y_test,rand2_pred),3))\n",
    "print('Recall score:',round(metrics.recall_score(y_test,rand2_pred),3))\n",
    "print('F1-score:',round(metrics.f1_score(y_test,rand2_pred),3))"
   ]
  },
  {
   "cell_type": "code",
   "execution_count": null,
   "id": "7c3e063a",
   "metadata": {},
   "outputs": [],
   "source": [
    "# Confusion Matrices\n",
    "log2_cm=metrics.confusion_matrix(y_test,log2_pred)\n",
    "rand2_cm=metrics.confusion_matrix(y_test,rand2_pred)\n",
    "fig, (ax1,ax2) = plt.subplots(1, 2, figsize=(12,5),facecolor='azure')\n",
    "sns.heatmap(log2_cm, annot=True, fmt='d', ax=ax1, cmap='Blues')\n",
    "ax1.set_title('Logistic Regression Confusion Matrix')\n",
    "ax1.set_xlabel('Predicted')\n",
    "ax1.set_ylabel('Actual')\n",
    "sns.heatmap(rand2_cm, annot=True, fmt='d', ax=ax2, cmap='Blues',cbar=False)\n",
    "ax2.set_title('Random Forest Classifier Confusion Matrix')\n",
    "ax2.set_xlabel('Predicted')\n",
    "ax2.set_ylabel('Actual')\n",
    "plt.tight_layout()\n",
    "plt.show()"
   ]
  },
  {
   "cell_type": "code",
   "execution_count": null,
   "id": "344d9c4e",
   "metadata": {},
   "outputs": [],
   "source": [
    "# visualize correlations between all features\n",
    "plt.figure(figsize=(15,8), facecolor='azure')\n",
    "sns.heatmap(data2.corr().round(2) , annot=True, cmap='coolwarm')\n",
    "plt.title('Correlation Heatmap Between Numeric Variables',fontsize=18)\n",
    "plt.tight_layout()\n",
    "plt.show()"
   ]
  }
 ],
 "metadata": {
  "kernelspec": {
   "display_name": "Python 3",
   "language": "python",
   "name": "python3"
  },
  "language_info": {
   "codemirror_mode": {
    "name": "ipython",
    "version": 3
   },
   "file_extension": ".py",
   "mimetype": "text/x-python",
   "name": "python",
   "nbconvert_exporter": "python",
   "pygments_lexer": "ipython3",
   "version": "3.13.0"
  }
 },
 "nbformat": 4,
 "nbformat_minor": 5
}
