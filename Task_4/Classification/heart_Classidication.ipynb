{
 "cells": [
  {
   "cell_type": "code",
   "execution_count": null,
   "id": "503e5436",
   "metadata": {},
   "outputs": [],
   "source": [
    "#import libraires\n",
    "import pandas as pd\n",
    "import matplotlib.pyplot as plt\n",
    "import seaborn as sns\n",
    "from sklearn.model_selection import train_test_split\n",
    "from sklearn.ensemble import RandomForestClassifier\n",
    "from sklearn.linear_model import LogisticRegression\n",
    "from sklearn import metrics\n",
    "from sklearn import preprocessing"
   ]
  },
  {
   "cell_type": "code",
   "execution_count": null,
   "id": "fd8dcae2",
   "metadata": {},
   "outputs": [],
   "source": [
    "#read csv file\n",
    "df = pd.read_csv('heart_2020.csv')"
   ]
  },
  {
   "cell_type": "code",
   "execution_count": null,
   "id": "245c2281",
   "metadata": {},
   "outputs": [],
   "source": [
    "#Check dataset\n",
    "print(\"The Shape:\",df.shape)\n",
    "print(\"The NULL values:\\n\",df.isnull().sum())\n",
    "print(\"Number of duplicated values\",df.duplicated().sum())"
   ]
  },
  {
   "cell_type": "code",
   "execution_count": null,
   "id": "1717a8d0",
   "metadata": {},
   "outputs": [],
   "source": [
    "#descriptive statistics\n",
    "df.describe()"
   ]
  },
  {
   "cell_type": "code",
   "execution_count": null,
   "id": "06a8531d",
   "metadata": {},
   "outputs": [],
   "source": [
    "#summary of a DataFrame\n",
    "df.info()"
   ]
  },
  {
   "cell_type": "code",
   "execution_count": null,
   "id": "930cb107",
   "metadata": {},
   "outputs": [],
   "source": [
    "#drop duplicated rows\n",
    "df.drop_duplicates(inplace=True)"
   ]
  },
  {
   "cell_type": "code",
   "execution_count": null,
   "id": "51cc0c0b",
   "metadata": {},
   "outputs": [],
   "source": [
    "#HeartDisease\n",
    "plt.figure(figsize=(10,8), facecolor='azure')\n",
    "plt.title('HeartDisease')\n",
    "sns.countplot(x='HeartDisease', data=df)"
   ]
  },
  {
   "cell_type": "code",
   "execution_count": null,
   "id": "6679558f",
   "metadata": {},
   "outputs": [],
   "source": [
    "# select all categorical variables\n",
    "df_categorical = df.select_dtypes(include=['object'])"
   ]
  },
  {
   "cell_type": "code",
   "execution_count": null,
   "id": "772b318c",
   "metadata": {},
   "outputs": [],
   "source": [
    "# apply Label encoder to df_categorical\n",
    "enc= preprocessing.LabelEncoder()\n",
    "df_categorical = df_categorical.apply(enc.fit_transform)\n",
    "df.drop(df_categorical.columns, axis=1, inplace=True)\n",
    "df = pd.concat([df_categorical, df], axis=1)\n"
   ]
  },
  {
   "cell_type": "code",
   "execution_count": null,
   "id": "b77afec7",
   "metadata": {},
   "outputs": [],
   "source": [
    "# Define features and target variable\n",
    "X=df.drop('HeartDisease',axis=1)\n",
    "y=df['HeartDisease']"
   ]
  },
  {
   "cell_type": "code",
   "execution_count": null,
   "id": "463d02c9",
   "metadata": {},
   "outputs": [],
   "source": [
    "# Split data into training and testing sets (70% train, 30% test)\n",
    "X_train, X_test, y_train, y_test = train_test_split(X, y, test_size=.3, random_state=42)"
   ]
  },
  {
   "cell_type": "code",
   "execution_count": null,
   "id": "517b501f",
   "metadata": {},
   "outputs": [],
   "source": [
    "# 1. Logistic Regression\n",
    "log=LogisticRegression(max_iter=1000, random_state=42)\n",
    "# Train on training set\n",
    "log.fit(X_train,y_train)"
   ]
  },
  {
   "cell_type": "code",
   "execution_count": null,
   "id": "b6c672bd",
   "metadata": {},
   "outputs": [],
   "source": [
    "# Predict on test set\n",
    "Logistic_pred= log.predict(X_test)"
   ]
  },
  {
   "cell_type": "code",
   "execution_count": null,
   "id": "17c62898",
   "metadata": {},
   "outputs": [],
   "source": [
    "# Calculate performance metrics for Logistic Regression\n",
    "print(\"Logistic Regression Matrices:\")\n",
    "print(\"Random Forest Classifier Matrices:\")\n",
    "print(\"Accuracy Score:\",round(metrics.accuracy_score(y_test,Logistic_pred),3))\n",
    "print('Precission_score:',round(metrics.precision_score(y_test,Logistic_pred),3))\n",
    "print('Recall score:',round(metrics.recall_score(y_test,Logistic_pred),3))\n",
    "print('F1-score:',round(metrics.f1_score(y_test,Logistic_pred),3))"
   ]
  },
  {
   "cell_type": "code",
   "execution_count": null,
   "id": "f55eb712",
   "metadata": {},
   "outputs": [],
   "source": [
    "# 2. Random Forest Classifier\n",
    "rand = RandomForestClassifier(random_state=42)\n",
    "# Train on training set\n",
    "rand.fit(X_train, y_train)"
   ]
  },
  {
   "cell_type": "code",
   "execution_count": null,
   "id": "6db79cd2",
   "metadata": {},
   "outputs": [],
   "source": [
    "# Predict on test set\n",
    "Random_pred= rand.predict(X_test)"
   ]
  },
  {
   "cell_type": "code",
   "execution_count": null,
   "id": "45e15a5f",
   "metadata": {},
   "outputs": [],
   "source": [
    "# Calculate performance metrics for Random Forest Classifier\n",
    "print(\"Random Forest Classifier Matrices:\")\n",
    "print(\"Accuracy Score:\",round(metrics.accuracy_score(y_test,Random_pred),3))\n",
    "print('Precission_score:',round(metrics.precision_score(y_test,Random_pred),3))\n",
    "print('Recall score:',round(metrics.recall_score(y_test,Random_pred),3))\n",
    "print('F1-score:',round(metrics.f1_score(y_test,Random_pred),3))"
   ]
  },
  {
   "cell_type": "code",
   "execution_count": null,
   "id": "2ed81406",
   "metadata": {},
   "outputs": [],
   "source": [
    "# Confusion Matrices\n",
    "log1_cm=metrics.confusion_matrix(y_test,Logistic_pred)\n",
    "rand1_cm=metrics.confusion_matrix(y_test,Random_pred)\n",
    "fig, (ax1,ax2) = plt.subplots(1, 2, figsize=(12,5),facecolor='azure')\n",
    "sns.heatmap(log1_cm, annot=True, fmt='d', ax=ax1, cmap='Blues')\n",
    "ax1.set_title('Logistic Regression Confusion Matrix')\n",
    "ax1.set_xlabel('Predicted')\n",
    "ax1.set_ylabel('Actual')\n",
    "sns.heatmap(rand1_cm, annot=True, fmt='d', ax=ax2, cmap='Blues',cbar=False)\n",
    "ax2.set_title('Random Forest Classifier Confusion Matrix')\n",
    "ax2.set_xlabel('Predicted')\n",
    "ax2.set_ylabel('Actual')\n",
    "plt.tight_layout()\n",
    "plt.show()"
   ]
  },
  {
   "cell_type": "code",
   "execution_count": null,
   "id": "6e73a201",
   "metadata": {},
   "outputs": [],
   "source": [
    "# visualize correlations between all features\n",
    "plt.figure(figsize=(12,8),facecolor='azure')\n",
    "sns.heatmap(data=df.corr().round(2) , annot=True, cmap='coolwarm', cbar=False)\n",
    "plt.title('Correlation Heatmap Between Numeric Variables',fontsize=18)\n",
    "plt.tight_layout()\n",
    "plt.show()"
   ]
  }
 ],
 "metadata": {
  "kernelspec": {
   "display_name": "Python 3",
   "language": "python",
   "name": "python3"
  },
  "language_info": {
   "codemirror_mode": {
    "name": "ipython",
    "version": 3
   },
   "file_extension": ".py",
   "mimetype": "text/x-python",
   "name": "python",
   "nbconvert_exporter": "python",
   "pygments_lexer": "ipython3",
   "version": "3.13.0"
  },
  "polyglot_notebook": {
   "kernelInfo": {
    "defaultKernelName": "csharp",
    "items": [
     {
      "aliases": [],
      "name": "csharp"
     }
    ]
   }
  }
 },
 "nbformat": 4,
 "nbformat_minor": 5
}
