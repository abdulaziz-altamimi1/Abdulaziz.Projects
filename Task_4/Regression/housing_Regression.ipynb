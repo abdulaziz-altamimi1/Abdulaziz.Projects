{
 "cells": [
  {
   "cell_type": "code",
   "execution_count": null,
   "id": "4ba82018",
   "metadata": {},
   "outputs": [],
   "source": [
    "#import libraires\n",
    "import pandas as pd\n",
    "import numpy as np\n",
    "import matplotlib.pyplot as plt\n",
    "import seaborn as sns\n",
    "from sklearn.model_selection import train_test_split\n",
    "from sklearn.ensemble import RandomForestRegressor\n",
    "from sklearn.linear_model import LinearRegression\n",
    "from sklearn import metrics\n",
    "from sklearn import preprocessing\n",
    "import warnings\n",
    "warnings.filterwarnings('ignore')"
   ]
  },
  {
   "cell_type": "code",
   "execution_count": null,
   "id": "8530a607",
   "metadata": {},
   "outputs": [],
   "source": [
    "#read csv file\n",
    "df=pd.read_csv('housing.csv')"
   ]
  },
  {
   "cell_type": "code",
   "execution_count": null,
   "id": "2bd0599c",
   "metadata": {},
   "outputs": [],
   "source": [
    "#Check dataset\n",
    "print(\"The Shape:\",df.shape)\n",
    "print(\"The NULL values:\\n\",df.isnull().sum())\n",
    "print(\"Number of duplicated values\",df.duplicated().sum())"
   ]
  },
  {
   "cell_type": "code",
   "execution_count": null,
   "id": "7ab01363",
   "metadata": {},
   "outputs": [],
   "source": [
    "#identify rows with any missing values\n",
    "df[df.isnull().any(axis=1)]"
   ]
  },
  {
   "cell_type": "code",
   "execution_count": null,
   "id": "982991f6",
   "metadata": {},
   "outputs": [],
   "source": [
    "#fill the total_bedrooms columns\n",
    "df.total_bedrooms.fillna(df.total_bedrooms.mean().round(2),inplace=True)"
   ]
  },
  {
   "cell_type": "code",
   "execution_count": null,
   "id": "b140b80a",
   "metadata": {},
   "outputs": [],
   "source": [
    "#list of columns in the dataset\n",
    "df.columns.to_list()"
   ]
  },
  {
   "cell_type": "code",
   "execution_count": null,
   "id": "4df6c1ac",
   "metadata": {},
   "outputs": [],
   "source": [
    "#descriptive statistics\n",
    "df.describe()"
   ]
  },
  {
   "cell_type": "code",
   "execution_count": null,
   "id": "c43b2ed3",
   "metadata": {},
   "outputs": [],
   "source": [
    "#summary of a DataFrame\n",
    "df.info()"
   ]
  },
  {
   "cell_type": "code",
   "execution_count": null,
   "id": "90e1cc1f",
   "metadata": {},
   "outputs": [],
   "source": [
    "#list frist 5 rows\n",
    "df.head()"
   ]
  },
  {
   "cell_type": "code",
   "execution_count": null,
   "id": "0b2a2cdf",
   "metadata": {},
   "outputs": [],
   "source": [
    "#list last 5 rows\n",
    "df.tail()"
   ]
  },
  {
   "cell_type": "code",
   "execution_count": null,
   "id": "40ff7bd8",
   "metadata": {},
   "outputs": [],
   "source": [
    "#Median income\n",
    "plt.figure(figsize=(8,10), facecolor='azure')\n",
    "sns.set_style('whitegrid')\n",
    "sns.histplot(df['median_income'], color='skyblue')\n",
    "plt.title(\"Median Income (scaled to $10000)\",fontsize=18)\n",
    "plt.xlabel(\"Median\")\n",
    "plt.ylabel(\"Frequence\")\n",
    "plt.tight_layout()\n",
    "plt.show()"
   ]
  },
  {
   "cell_type": "code",
   "execution_count": null,
   "id": "8e30e706",
   "metadata": {},
   "outputs": [],
   "source": [
    "#Boxplot for detecting outliers\n",
    "plt.figure(figsize=(12,8),facecolor='azure')\n",
    "sns.boxplot(x=df['median_house_value'], color='lightblue')\n",
    "plt.title(\"Boxplot of Median House Prices\",fontsize=18)\n",
    "plt.xlabel(\"Median House Prices\")\n",
    "plt.tight_layout()\n",
    "plt.show()"
   ]
  },
  {
   "cell_type": "code",
   "execution_count": null,
   "id": "a9a9ea7f",
   "metadata": {},
   "outputs": [],
   "source": [
    "# select all categorical variables\n",
    "df_categorical = df.select_dtypes(include=['object'])"
   ]
  },
  {
   "cell_type": "code",
   "execution_count": null,
   "id": "7edfda7c",
   "metadata": {},
   "outputs": [],
   "source": [
    "# apply Label encoder to df_categorical\n",
    "enc= preprocessing.LabelEncoder()\n",
    "df_categorical = df_categorical.apply(enc.fit_transform)\n",
    "df.drop(df_categorical.columns, axis=1, inplace=True)\n",
    "df = pd.concat([df, df_categorical], axis=1)"
   ]
  },
  {
   "cell_type": "code",
   "execution_count": null,
   "id": "63262947",
   "metadata": {},
   "outputs": [],
   "source": [
    "# Define features and target variable\n",
    "X=df.drop('median_house_value',axis=1)\n",
    "y=df['median_house_value']"
   ]
  },
  {
   "cell_type": "code",
   "execution_count": null,
   "id": "2c504e5c",
   "metadata": {},
   "outputs": [],
   "source": [
    "# Split data into training and testing sets (70% train, 30% test)\n",
    "X_train,X_test,y_train,y_test= train_test_split(X, y ,test_size=.3, random_state=42)"
   ]
  },
  {
   "cell_type": "code",
   "execution_count": null,
   "id": "63e3e4ab",
   "metadata": {},
   "outputs": [],
   "source": [
    "# 1. Linear Regression\n",
    "linear= LinearRegression()\n",
    "# Train on training set\n",
    "linear.fit(X_train,y_train)"
   ]
  },
  {
   "cell_type": "code",
   "execution_count": null,
   "id": "1fab8dc2",
   "metadata": {},
   "outputs": [],
   "source": [
    "# Predict on test set\n",
    "linear_pred=linear.predict(X_test)"
   ]
  },
  {
   "cell_type": "code",
   "execution_count": null,
   "id": "b1f1c526",
   "metadata": {},
   "outputs": [],
   "source": [
    "# Calculate performance metrics for Linear Regression\n",
    "print(\"Linear Regression Matrices:\")\n",
    "print('MAE:',round(metrics.mean_absolute_error(y_test, linear_pred),3))\n",
    "print('MSE:',round(metrics.mean_squared_error(y_test, linear_pred),3))\n",
    "print('RMSE:',round(metrics.root_mean_squared_error(y_test, linear_pred),3))\n",
    "print('R^2:',round(metrics.r2_score(y_test, linear_pred),3))"
   ]
  },
  {
   "cell_type": "code",
   "execution_count": null,
   "id": "1a9420df",
   "metadata": {},
   "outputs": [],
   "source": [
    "#compare the model’s predictions against the actual values\n",
    "test = pd.DataFrame({'Predicted':linear_pred,'Actual':y_test})\n",
    "fig= plt.figure(figsize=(16,8), facecolor='azure')\n",
    "test = test.reset_index()\n",
    "test = test.drop(['index'],axis=1)\n",
    "plt.plot(test[:50])\n",
    "plt.legend(['Predicted','Actual'])\n",
    "\n",
    "# Show the overall relationship between predicted and actual values\n",
    "fig= plt.figure(figsize=(8,8), facecolor='azure')\n",
    "sns.jointplot(x='Predicted',y='Actual',data=test,kind='reg',)\n",
    "plt.tight_layout()\n",
    "plt.show()"
   ]
  },
  {
   "cell_type": "code",
   "execution_count": null,
   "id": "ec40114a",
   "metadata": {},
   "outputs": [],
   "source": [
    "# 2. Random Forest Regressor\n",
    "rand= RandomForestRegressor(random_state=42)\n",
    "# Train on training set\n",
    "rand.fit(X_train, y_train)"
   ]
  },
  {
   "cell_type": "code",
   "execution_count": null,
   "id": "0273bb54",
   "metadata": {},
   "outputs": [],
   "source": [
    "# Predict on test set\n",
    "rand_pred= rand.predict(X_test)"
   ]
  },
  {
   "cell_type": "code",
   "execution_count": null,
   "id": "1400f246",
   "metadata": {},
   "outputs": [],
   "source": [
    "# Calculate performance metrics for Random Forest Regressor\n",
    "print(\"Random Forest Regressor Matrices:\")\n",
    "print('MAE:',round(metrics.mean_absolute_error(y_test, rand_pred),3))\n",
    "print('MSE:',round(metrics.mean_squared_error(y_test, rand_pred),3))\n",
    "print('RMSE:',round(metrics.root_mean_squared_error(y_test, rand_pred),3))\n",
    "print('R^2:',round(metrics.r2_score(y_test, rand_pred),3))"
   ]
  },
  {
   "cell_type": "code",
   "execution_count": null,
   "id": "7eb0eba1",
   "metadata": {},
   "outputs": [],
   "source": [
    "#compare the model’s predictions against the actual values\n",
    "test = pd.DataFrame({'Predicted':rand_pred,'Actual':y_test})\n",
    "fig= plt.figure(figsize=(16,8), facecolor='azure')\n",
    "test = test.reset_index()\n",
    "test = test.drop(['index'],axis=1)\n",
    "plt.plot(test[:50])\n",
    "plt.legend(['Predicted','Actual'])\n",
    "\n",
    "# Show the overall relationship between predicted and actual values\n",
    "fig= plt.figure(figsize=(8,8), facecolor='azure')\n",
    "sns.jointplot(x='Predicted',y='Actual',data=test,kind='reg')\n",
    "plt.tight_layout()\n",
    "plt.show()"
   ]
  },
  {
   "cell_type": "code",
   "execution_count": null,
   "id": "9aa8bbff",
   "metadata": {},
   "outputs": [],
   "source": [
    "#visualize correlations between all features\n",
    "plt.figure(figsize=(12,8),facecolor='azure')\n",
    "sns.heatmap(data=df.corr().round(2) , annot=True, cmap='coolwarm', cbar=False)\n",
    "plt.title('Correlation Heatmap Between Numeric Variables',fontsize=18)\n",
    "plt.tight_layout()\n",
    "plt.show()"
   ]
  }
 ],
 "metadata": {
  "kernelspec": {
   "display_name": "Python 3",
   "language": "python",
   "name": "python3"
  },
  "language_info": {
   "codemirror_mode": {
    "name": "ipython",
    "version": 3
   },
   "file_extension": ".py",
   "mimetype": "text/x-python",
   "name": "python",
   "nbconvert_exporter": "python",
   "pygments_lexer": "ipython3",
   "version": "3.13.0"
  }
 },
 "nbformat": 4,
 "nbformat_minor": 5
}
