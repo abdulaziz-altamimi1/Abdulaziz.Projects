{
 "cells": [
  {
   "cell_type": "code",
   "execution_count": null,
   "id": "951ec2cf",
   "metadata": {},
   "outputs": [],
   "source": [
    "#import libraires\n",
    "import pandas as pd\n",
    "import numpy as np\n",
    "import matplotlib.pyplot as plt\n",
    "import seaborn as sns\n",
    "from sklearn.model_selection import train_test_split\n",
    "from sklearn.ensemble import RandomForestRegressor\n",
    "from sklearn.linear_model import LinearRegression\n",
    "from sklearn import metrics\n",
    "from sklearn import preprocessing"
   ]
  },
  {
   "cell_type": "code",
   "execution_count": null,
   "id": "5b974aa8",
   "metadata": {},
   "outputs": [],
   "source": [
    "#read csv file\n",
    "df = pd.read_csv('walmart_data.csv')\n",
    "# Drop the auto-generated index column\n",
    "df.drop('Unnamed: 0',axis=1,inplace=True)"
   ]
  },
  {
   "cell_type": "code",
   "execution_count": null,
   "id": "29cefad6",
   "metadata": {},
   "outputs": [],
   "source": [
    "#Check dataset\n",
    "print(\"The Shape:\",df.shape)\n",
    "print(\"The NULL values:\\n\",df.isnull().sum())\n",
    "print(\"Number of duplicated values\",df.duplicated().sum())"
   ]
  },
  {
   "cell_type": "code",
   "execution_count": null,
   "id": "4c846087",
   "metadata": {},
   "outputs": [],
   "source": [
    "#descriptive statistics\n",
    "df.describe()"
   ]
  },
  {
   "cell_type": "code",
   "execution_count": null,
   "id": "a5451d47",
   "metadata": {},
   "outputs": [],
   "source": [
    "#summary of a DataFrame\n",
    "df.info()"
   ]
  },
  {
   "cell_type": "code",
   "execution_count": null,
   "id": "13ff0d9f",
   "metadata": {},
   "outputs": [],
   "source": [
    "#list frist 5 rows\n",
    "df.head()"
   ]
  },
  {
   "cell_type": "code",
   "execution_count": null,
   "id": "3a8af6cc",
   "metadata": {},
   "outputs": [],
   "source": [
    "#list last 5 rows\n",
    "df.tail()"
   ]
  },
  {
   "cell_type": "code",
   "execution_count": null,
   "id": "8a602ec3",
   "metadata": {},
   "outputs": [],
   "source": [
    "# Set the style of the seaborn plot\n",
    "sns.set(style=\"whitegrid\")\n",
    "\n",
    "# Plot histograms of the numerical columns\n",
    "df.hist(bins=30, figsize=(20,15))\n",
    "plt.tight_layout()\n",
    "plt.show()"
   ]
  },
  {
   "cell_type": "code",
   "execution_count": null,
   "id": "f22b94fd",
   "metadata": {},
   "outputs": [],
   "source": [
    "# select all categorical variables\n",
    "df_categorical = df.select_dtypes(include=['object'])"
   ]
  },
  {
   "cell_type": "code",
   "execution_count": null,
   "id": "718d28bf",
   "metadata": {},
   "outputs": [],
   "source": [
    "# apply Label encoder to df_categorical\n",
    "enc= preprocessing.LabelEncoder()\n",
    "df_categorical = df_categorical.apply(enc.fit_transform)\n",
    "df.drop(df_categorical.columns, axis=1, inplace=True)\n",
    "df = pd.concat([df, df_categorical], axis=1)"
   ]
  },
  {
   "cell_type": "code",
   "execution_count": null,
   "id": "00f82829",
   "metadata": {},
   "outputs": [],
   "source": [
    "df.info()"
   ]
  },
  {
   "cell_type": "code",
   "execution_count": null,
   "id": "92bb593d",
   "metadata": {},
   "outputs": [],
   "source": [
    "# Define features and target variable\n",
    "X = df.drop('Weekly_Sales',axis=1)\n",
    "y = df['Weekly_Sales']"
   ]
  },
  {
   "cell_type": "code",
   "execution_count": null,
   "id": "2b318b28",
   "metadata": {},
   "outputs": [],
   "source": [
    "# Split data into training and testing sets (70% train, 30% test)\n",
    "X_train,X_test,y_train,y_test= train_test_split(X, y ,test_size=.3, random_state=42)"
   ]
  },
  {
   "cell_type": "code",
   "execution_count": null,
   "id": "2a3ef91c",
   "metadata": {},
   "outputs": [],
   "source": [
    "# 1. Linear Regression\n",
    "linear= LinearRegression()\n",
    "# Train on training set\n",
    "linear.fit(X_train, y_train)"
   ]
  },
  {
   "cell_type": "code",
   "execution_count": null,
   "id": "3ac15af9",
   "metadata": {},
   "outputs": [],
   "source": [
    "# Predict on test set\n",
    "linear_pred= linear.predict(X_test)"
   ]
  },
  {
   "cell_type": "code",
   "execution_count": null,
   "id": "a27c6bb6",
   "metadata": {},
   "outputs": [],
   "source": [
    "# Calculate performance metrics for Linear Regression\n",
    "print(\"Linear Regression Matrices:\")\n",
    "print('MAE:',round(metrics.mean_absolute_error(y_test, linear_pred),3))\n",
    "print('MSE:',round(metrics.mean_squared_error(y_test, linear_pred),3))\n",
    "print('RMSE:',round(metrics.root_mean_squared_error(y_test, linear_pred),3))\n",
    "print('R^2:',round(metrics.r2_score(y_test, linear_pred),3))"
   ]
  },
  {
   "cell_type": "code",
   "execution_count": null,
   "id": "91811f24",
   "metadata": {},
   "outputs": [],
   "source": [
    "#compare the model’s predictions against the actual values\n",
    "test = pd.DataFrame({'Predicted':linear_pred,'Actual':y_test})\n",
    "fig= plt.figure(figsize=(16,8),facecolor='azure')\n",
    "test = test.reset_index()\n",
    "test = test.drop(['index'],axis=1)\n",
    "plt.plot(test[:50])\n",
    "plt.legend(['Predicted','Actual'])\n",
    "plt.tight_layout()\n",
    "plt.show()\n",
    "\n",
    "# Show the overall relationship between predicted and actual values\n",
    "fig= plt.figure(figsize=(8,8), facecolor='azure')\n",
    "sns.jointplot(x='Predicted',y='Actual',data=test,kind='reg')\n",
    "plt.tight_layout()\n",
    "plt.show()"
   ]
  },
  {
   "cell_type": "code",
   "execution_count": null,
   "id": "12178ca1",
   "metadata": {},
   "outputs": [],
   "source": [
    "# 2. Random Forest Regressor\n",
    "rand= RandomForestRegressor(random_state=42)\n",
    "# Train on training set\n",
    "rand.fit(X_train, y_train)"
   ]
  },
  {
   "cell_type": "code",
   "execution_count": null,
   "id": "d90bd0d9",
   "metadata": {},
   "outputs": [],
   "source": [
    "# Predict on test set\n",
    "rand_pred= rand.predict(X_test)"
   ]
  },
  {
   "cell_type": "code",
   "execution_count": null,
   "id": "f037cb03",
   "metadata": {},
   "outputs": [],
   "source": [
    "# Calculate performance metrics for Random Forest Regressor\n",
    "print('MAE:',round(metrics.mean_absolute_error(y_test, rand_pred),3))\n",
    "print('MSE:',round(metrics.mean_squared_error(y_test, rand_pred),3))\n",
    "print('RMSE:',round(metrics.root_mean_squared_error(y_test, rand_pred),3))\n",
    "print('R^2:',round(metrics.r2_score(y_test, rand_pred),3))"
   ]
  },
  {
   "cell_type": "code",
   "execution_count": null,
   "id": "f74bb3b8",
   "metadata": {},
   "outputs": [],
   "source": [
    "#compare the model’s predictions against the actual values\n",
    "test = pd.DataFrame({'Predicted':rand_pred,'Actual':y_test})\n",
    "fig= plt.figure(figsize=(16,8), facecolor='azure')\n",
    "test = test.reset_index()\n",
    "test = test.drop(['index'],axis=1)\n",
    "plt.plot(test[:50])\n",
    "plt.legend(['Predicted','Actual'])\n",
    "plt.tight_layout()\n",
    "plt.show()\n",
    "\n",
    "# Show the overall relationship between predicted and actual values\n",
    "fig= plt.figure(figsize=(8,8), facecolor='azure')\n",
    "sns.jointplot(x='Predicted',y='Actual',data=test,kind='reg')\n",
    "plt.tight_layout()\n",
    "plt.show()"
   ]
  },
  {
   "cell_type": "code",
   "execution_count": null,
   "id": "fc9f2532",
   "metadata": {},
   "outputs": [],
   "source": [
    "#visualize correlations between all features\n",
    "plt.figure(figsize=(12,8),facecolor='azure')\n",
    "sns.heatmap(data=df.corr().round(2) , annot=True, cmap='coolwarm', cbar=False)\n",
    "plt.title('Correlation Heatmap Between Numeric Variables',fontsize=18)\n",
    "plt.tight_layout()\n",
    "plt.show()"
   ]
  }
 ],
 "metadata": {
  "kernelspec": {
   "display_name": "Python 3",
   "language": "python",
   "name": "python3"
  },
  "language_info": {
   "codemirror_mode": {
    "name": "ipython",
    "version": 3
   },
   "file_extension": ".py",
   "mimetype": "text/x-python",
   "name": "python",
   "nbconvert_exporter": "python",
   "pygments_lexer": "ipython3",
   "version": "3.13.0"
  }
 },
 "nbformat": 4,
 "nbformat_minor": 5
}
