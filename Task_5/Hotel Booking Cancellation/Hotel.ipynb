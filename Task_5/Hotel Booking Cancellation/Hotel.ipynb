{
 "cells": [
  {
   "cell_type": "code",
   "execution_count": null,
   "id": "524b0126",
   "metadata": {},
   "outputs": [],
   "source": [
    "#import libraires\n",
    "import pandas as pd\n",
    "import numpy as np\n",
    "import matplotlib.pyplot as plt\n",
    "import seaborn as sns\n",
    "from sklearn.model_selection import train_test_split\n",
    "from sklearn.preprocessing import StandardScaler, LabelEncoder\n",
    "from sklearn import metrics\n",
    "from tensorflow.keras import layers, callbacks\n",
    "from tensorflow import keras"
   ]
  },
  {
   "cell_type": "code",
   "execution_count": null,
   "id": "7831c327",
   "metadata": {},
   "outputs": [],
   "source": [
    "#read csv file\n",
    "df = pd.read_csv(\"hotel_bookings.csv\")"
   ]
  },
  {
   "cell_type": "code",
   "execution_count": null,
   "id": "62afc103",
   "metadata": {},
   "outputs": [],
   "source": [
    "#Check dataset\n",
    "print(\"Shape:\",df.shape)\n",
    "print(\"Number of duplicated rows:\",df.duplicated().sum())\n",
    "print(\"Number of Null value:\\n\",df.isnull().sum())"
   ]
  },
  {
   "cell_type": "code",
   "execution_count": null,
   "id": "1eeb065f",
   "metadata": {},
   "outputs": [],
   "source": [
    "#drop duplicated rows\n",
    "df=df.drop_duplicates()"
   ]
  },
  {
   "cell_type": "code",
   "execution_count": null,
   "id": "885ffd83",
   "metadata": {},
   "outputs": [],
   "source": [
    "#fill agent and company columns wiht 0\n",
    "fill= {\"agent\": 0, \"company\": 0}\n",
    "df= df.fillna(fill)\n",
    "\n",
    "#drop children and country columns\n",
    "df.drop('children',axis=1, inplace=True)\n",
    "df.drop('country',axis=1, inplace=True)"
   ]
  },
  {
   "cell_type": "code",
   "execution_count": null,
   "id": "3c6324dd",
   "metadata": {},
   "outputs": [],
   "source": [
    "#descriptive statistics\n",
    "df.describe()"
   ]
  },
  {
   "cell_type": "code",
   "execution_count": null,
   "id": "35fc0961",
   "metadata": {},
   "outputs": [],
   "source": [
    "#summary of a DataFrame\n",
    "df.info()"
   ]
  },
  {
   "cell_type": "code",
   "execution_count": null,
   "id": "29acd978",
   "metadata": {},
   "outputs": [],
   "source": [
    "q1= df['adr'].quantile(0.25)\n",
    "q3= df['adr'].quantile(0.75)\n",
    "IQR=q3-q1\n",
    "\n",
    "IQR\n",
    "\n",
    "lower=q1-1.5*IQR\n",
    "upper=q3+1.5*IQR\n",
    "\n",
    "df= df[(df['adr'] >= lower) & (df['adr'] <= upper)]"
   ]
  },
  {
   "cell_type": "code",
   "execution_count": null,
   "id": "84b8d484",
   "metadata": {},
   "outputs": [],
   "source": [
    "# select all categorical variables\n",
    "df_categorical = df.select_dtypes(include=['object'])"
   ]
  },
  {
   "cell_type": "code",
   "execution_count": null,
   "id": "c7fdd98a",
   "metadata": {},
   "outputs": [],
   "source": [
    "# apply Label encoder to df_categorical\n",
    "enc= LabelEncoder()\n",
    "df_categorical = df_categorical.apply(enc.fit_transform)\n",
    "df.drop(df_categorical.columns, axis=1, inplace=True)\n",
    "df = pd.concat([df, df_categorical], axis=1)"
   ]
  },
  {
   "cell_type": "code",
   "execution_count": null,
   "id": "61cd8ba1",
   "metadata": {},
   "outputs": [],
   "source": [
    "feature=['lead_time', 'adr', 'required_car_parking_spaces',\n",
    "       'total_of_special_requests',\n",
    "       'market_segment', 'distribution_channel','deposit_type']"
   ]
  },
  {
   "cell_type": "code",
   "execution_count": null,
   "id": "85316f72",
   "metadata": {},
   "outputs": [],
   "source": [
    "#drop unnecessary columns with droping reservation_status\n",
    "drop_cols=[\n",
    " 'arrival_date_year',\n",
    " 'arrival_date_month',\n",
    " 'arrival_date_week_number',\n",
    " 'arrival_date_day_of_month',\n",
    " 'agent',\n",
    " 'company',\n",
    " 'reservation_status',\n",
    " 'is_canceled']"
   ]
  },
  {
   "cell_type": "code",
   "execution_count": null,
   "id": "007ebcae",
   "metadata": {},
   "outputs": [],
   "source": [
    "# Define features and target variable\n",
    "X=df.drop(drop_cols,axis=1)\n",
    "y=df['is_canceled']"
   ]
  },
  {
   "cell_type": "code",
   "execution_count": null,
   "id": "48e78561",
   "metadata": {},
   "outputs": [],
   "source": [
    "# Split data into training and testing sets (70% train, 30% test)\n",
    "X_train,X_test, y_train, y_test= train_test_split(X, y, test_size=.3, random_state=42)"
   ]
  },
  {
   "cell_type": "code",
   "execution_count": null,
   "id": "898e792e",
   "metadata": {},
   "outputs": [],
   "source": [
    "# feature scaling\n",
    "scaler = StandardScaler()\n",
    "X_train_scaled = scaler.fit_transform(X_train)\n",
    "X_test_scaled = scaler.transform(X_test)"
   ]
  },
  {
   "cell_type": "code",
   "execution_count": null,
   "id": "91e5a98f",
   "metadata": {},
   "outputs": [],
   "source": [
    "# build network model\n",
    "model = keras.Sequential([\n",
    "    layers.Dense(512, activation='relu', input_shape=(X_train.shape[1],)),\n",
    "    layers.BatchNormalization(),\n",
    "    layers.Dropout(0.3),\n",
    "    layers.Dense(256, activation='relu'),\n",
    "    layers.BatchNormalization(),\n",
    "    layers.Dropout(0.3),\n",
    "    layers.Dense(1, activation='sigmoid')\n",
    "])"
   ]
  },
  {
   "cell_type": "code",
   "execution_count": null,
   "id": "0e65bfae",
   "metadata": {},
   "outputs": [],
   "source": [
    "# compile the model\n",
    "model.compile(\n",
    "    optimizer='adam',\n",
    "    loss='binary_crossentropy',\n",
    "    metrics=['binary_accuracy']\n",
    ")"
   ]
  },
  {
   "cell_type": "code",
   "execution_count": null,
   "id": "4085fe3d",
   "metadata": {},
   "outputs": [],
   "source": [
    "# apply early stopping \n",
    "early_stop = callbacks.EarlyStopping(\n",
    "    patience=10,\n",
    "    min_delta=0.001,\n",
    "    restore_best_weights=True,\n",
    ")"
   ]
  },
  {
   "cell_type": "code",
   "execution_count": null,
   "id": "923d0e31",
   "metadata": {},
   "outputs": [],
   "source": [
    "# train the model \n",
    "history = model.fit(\n",
    "    X_train_scaled, y_train,\n",
    "    validation_split=.2,\n",
    "    batch_size=512,\n",
    "    epochs=100,\n",
    "    callbacks=[early_stop],\n",
    ")"
   ]
  },
  {
   "cell_type": "code",
   "execution_count": null,
   "id": "73095ecf",
   "metadata": {},
   "outputs": [],
   "source": [
    "#compare the model loss against the actual val_loss\n",
    "history_df = pd.DataFrame(history.history)\n",
    "history_df[['loss', 'val_loss']].plot(title=\"Cross-Entropy Loss\")\n",
    "plt.xlabel(\"Epoch\")\n",
    "plt.ylabel(\"Loss\")\n",
    "plt.grid(True)\n",
    "plt.show()\n",
    "\n",
    "#compare the model accuracy against the actual val accuracy\n",
    "history_df[['binary_accuracy', 'val_binary_accuracy']].plot(title=\"Accuracy\")\n",
    "plt.xlabel(\"Epoch\")\n",
    "plt.ylabel(\"Accuracy\")\n",
    "plt.grid(True)\n",
    "plt.show()"
   ]
  },
  {
   "cell_type": "code",
   "execution_count": null,
   "id": "24cc651d",
   "metadata": {},
   "outputs": [],
   "source": [
    "# confusion matrix\n",
    "y_pred = model.predict(X_test_scaled)\n",
    "y_pred_labels = (y_pred > 0.5).astype(int)\n",
    "\n",
    "cm = metrics.confusion_matrix(y_test, y_pred_labels)\n",
    "sns.heatmap(cm, annot=True, fmt=\"d\", cmap=\"Blues\")\n",
    "plt.xlabel(\"Predicted\")\n",
    "plt.ylabel(\"Actual\")\n",
    "plt.title(\"Confusion Matrix\")\n",
    "plt.show()"
   ]
  },
  {
   "cell_type": "code",
   "execution_count": null,
   "id": "f0b28273",
   "metadata": {},
   "outputs": [],
   "source": [
    "# Calculate performance metrics\n",
    "acc = metrics.accuracy_score(y_test, y_pred_labels)\n",
    "prec = metrics.precision_score(y_test, y_pred_labels)\n",
    "rec = metrics.recall_score(y_test, y_pred_labels)\n",
    "f1 = metrics.f1_score(y_test, y_pred_labels)\n",
    "\n",
    "print(f\"Accuracy: {acc:.4f}\")\n",
    "print(f\"Precision: {prec:.4f}\")\n",
    "print(f\"Recall: {rec:.4f}\")\n",
    "print(f\"F1 Score: {f1:.4f}\")"
   ]
  },
  {
   "cell_type": "code",
   "execution_count": null,
   "id": "cd3e0cd1",
   "metadata": {},
   "outputs": [],
   "source": [
    "# test evaluate\n",
    "test_loss, test_acc = model.evaluate(X_test_scaled, y_test)\n",
    "print(f\"Test Accuracy: {test_acc:.4f}, Test Loss: {test_loss:.4f}\")"
   ]
  }
 ],
 "metadata": {
  "kernelspec": {
   "display_name": "Python 3",
   "language": "python",
   "name": "python3"
  },
  "language_info": {
   "codemirror_mode": {
    "name": "ipython",
    "version": 3
   },
   "file_extension": ".py",
   "mimetype": "text/x-python",
   "name": "python",
   "nbconvert_exporter": "python",
   "pygments_lexer": "ipython3",
   "version": "3.11.7"
  }
 },
 "nbformat": 4,
 "nbformat_minor": 5
}
