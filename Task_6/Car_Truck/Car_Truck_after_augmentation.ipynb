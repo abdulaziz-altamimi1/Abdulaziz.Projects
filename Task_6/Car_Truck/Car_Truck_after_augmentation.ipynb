{
  "cells": [
    {
      "cell_type": "code",
      "execution_count": null,
      "metadata": {
        "id": "7uWntn-o0kzl"
      },
      "outputs": [],
      "source": [
        "#unzip the file im colab\n",
        "import zipfile\n",
        "with zipfile.ZipFile('/content/drive/MyDrive/Colab Notebooks/cars_trucks.zip', 'r') as zip_ref:\n",
        "    zip_ref.extractall('Car_Truck')"
      ]
    },
    {
      "cell_type": "code",
      "execution_count": null,
      "metadata": {
        "id": "dT4kkomqLLuE"
      },
      "outputs": [],
      "source": [
        "#import libraires\n",
        "import os\n",
        "import pandas as pd\n",
        "import numpy as np\n",
        "import matplotlib.pyplot as plt\n",
        "import seaborn as sns\n",
        "from sklearn import metrics\n",
        "import tensorflow as tf\n",
        "from tensorflow import keras\n",
        "from tensorflow.keras import layers\n",
        "from tensorflow.keras.preprocessing import image_dataset_from_directory"
      ]
    },
    {
      "cell_type": "code",
      "execution_count": null,
      "metadata": {
        "colab": {
          "base_uri": "https://localhost:8080/"
        },
        "id": "zCv0LYzxLZsI",
        "outputId": "9323e587-3be6-47b5-a757-3b2c1fea7afc"
      },
      "outputs": [],
      "source": [
        "# Load training and validation sets\n",
        "\n",
        "seed=42\n",
        "np.random.seed(seed)\n",
        "tf.random.set_seed(seed)\n",
        "os.environ['PYTHONHASHSEED'] = str(seed)\n",
        "\n",
        "ds_train_ = image_dataset_from_directory(\n",
        "    'Car_Truck/train',\n",
        "    labels='inferred',\n",
        "    label_mode='binary',\n",
        "    image_size=[128, 128],\n",
        "    interpolation='nearest',\n",
        "    batch_size=64,\n",
        "    shuffle=True,\n",
        ")\n",
        "ds_valid_ = image_dataset_from_directory(\n",
        "    'Car_Truck/valid',\n",
        "    labels='inferred',\n",
        "    label_mode='binary',\n",
        "    image_size=[128, 128],\n",
        "    interpolation='nearest',\n",
        "    batch_size=64,\n",
        "    shuffle=False,\n",
        ")\n",
        "\n",
        "# Data Pipeline\n",
        "def convert_to_float(image, label):\n",
        "    image = tf.image.convert_image_dtype(image, dtype=tf.float32)\n",
        "    return image, label\n",
        "\n",
        "AUTOTUNE = tf.data.experimental.AUTOTUNE\n",
        "ds_train = (\n",
        "    ds_train_\n",
        "    .map(convert_to_float)\n",
        "    .cache()\n",
        "    .prefetch(buffer_size=AUTOTUNE)\n",
        ")\n",
        "ds_valid = (\n",
        "    ds_valid_\n",
        "    .map(convert_to_float)\n",
        "    .cache()\n",
        "    .prefetch(buffer_size=AUTOTUNE)\n",
        ")\n"
      ]
    },
    {
      "cell_type": "code",
      "execution_count": null,
      "metadata": {
        "colab": {
          "base_uri": "https://localhost:8080/"
        },
        "id": "mMnJJDqYMbQn",
        "outputId": "d8503b8e-a4ed-4581-8c4b-f5102ddaebd6"
      },
      "outputs": [],
      "source": [
        "# build network model \n",
        "model = keras.Sequential([\n",
        "\n",
        "    layers.RandomFlip(mode='horizontal'),\n",
        "    layers.RandomContrast(0.1),\n",
        "    layers.RandomRotation(0.1),\n",
        "    layers.Conv2D(32, 3, activation='relu',input_shape=[128, 128, 3]),\n",
        "    layers.MaxPool2D(),\n",
        "    layers.Conv2D(64, 3, activation='relu'),\n",
        "    layers.MaxPool2D(),\n",
        "    layers.Conv2D(128, 3, activation='relu'),\n",
        "    layers.Conv2D(128, 3, activation='relu'),\n",
        "    layers.MaxPool2D(),\n",
        "    layers.Flatten(),\n",
        "    layers.Dense(6, activation='relu'),\n",
        "    layers.Dropout(0.2),\n",
        "    layers.Dense(1, activation='sigmoid'),\n",
        "])"
      ]
    },
    {
      "cell_type": "code",
      "execution_count": null,
      "metadata": {
        "id": "446DcIyXQgHK"
      },
      "outputs": [],
      "source": [
        "# compile the model\n",
        "model.compile(\n",
        "    optimizer='adam',\n",
        "    loss='binary_crossentropy',\n",
        "    metrics=['binary_accuracy'],\n",
        ")"
      ]
    },
    {
      "cell_type": "code",
      "execution_count": null,
      "metadata": {
        "colab": {
          "base_uri": "https://localhost:8080/"
        },
        "id": "t1MS9YyjQkYc",
        "outputId": "3aabb412-0c30-4c42-9e5e-0d7bae22756d"
      },
      "outputs": [],
      "source": [
        "# train the model \n",
        "history = model.fit(\n",
        "    ds_train,\n",
        "    validation_data=ds_valid,\n",
        "    epochs=50,\n",
        ")"
      ]
    },
    {
      "cell_type": "code",
      "execution_count": null,
      "metadata": {
        "colab": {
          "base_uri": "https://localhost:8080/",
          "height": 472
        },
        "id": "uv21D1lY1uVC",
        "outputId": "0108b832-767f-44aa-e8a4-4042ad6ccf9a"
      },
      "outputs": [],
      "source": [
        "#compare the model loss against the actual val_loss\n",
        "history_frame = pd.DataFrame(history.history)\n",
        "history_frame[['loss', 'val_loss']].plot(title=\"Cross-Entropy Loss\")\n",
        "plt.xlabel(\"Epoch\")\n",
        "plt.ylabel(\"Loss\")\n",
        "plt.grid(True)\n",
        "plt.show()"
      ]
    },
    {
      "cell_type": "code",
      "execution_count": null,
      "metadata": {
        "colab": {
          "base_uri": "https://localhost:8080/",
          "height": 472
        },
        "id": "Dis2HzdD107f",
        "outputId": "970e2d21-49f8-49e6-ad98-1eab8505858e"
      },
      "outputs": [],
      "source": [
        "#compare the model accuracy against the actual val accuracy\n",
        "history_frame[['binary_accuracy', 'val_binary_accuracy']].plot(title=\"Accuracy\")\n",
        "plt.xlabel(\"Epoch\")\n",
        "plt.ylabel(\"Accuracy\")\n",
        "plt.grid(True)\n",
        "plt.show()"
      ]
    },
    {
      "cell_type": "code",
      "execution_count": null,
      "metadata": {
        "colab": {
          "base_uri": "https://localhost:8080/"
        },
        "id": "xVMgBOfHjyAU",
        "outputId": "17d14361-244c-4def-db00-ead48c46bd5f"
      },
      "outputs": [],
      "source": [
        "y_ture=[]\n",
        "y_pred=[]\n",
        "\n",
        "for images, labels in ds_valid:\n",
        "  pred= model.predict(images).flatten()\n",
        "  y_ture.extend(labels.numpy())\n",
        "  y_pred.extend(pred>0.5)\n",
        "\n",
        "\n",
        "y_ture=np.array(y_ture)\n",
        "y_pred=np.array(y_pred)\n"
      ]
    },
    {
      "cell_type": "code",
      "execution_count": null,
      "metadata": {
        "colab": {
          "base_uri": "https://localhost:8080/",
          "height": 472
        },
        "id": "Zju7ffs_ineP",
        "outputId": "8fbaf163-2430-447d-eb30-9d3a4f5263ae"
      },
      "outputs": [],
      "source": [
        "# Confusion matrix\n",
        "cm = metrics.confusion_matrix(y_ture, y_pred)\n",
        "sns.heatmap(cm, annot=True, fmt=\"d\", cmap=\"Blues\")\n",
        "plt.xlabel(\"Predicted\")\n",
        "plt.ylabel(\"Actual\")\n",
        "plt.title(\"Confusion Matrix\")\n",
        "plt.show()"
      ]
    },
    {
      "cell_type": "code",
      "execution_count": null,
      "metadata": {
        "colab": {
          "base_uri": "https://localhost:8080/"
        },
        "id": "jMns32Uiiovo",
        "outputId": "3b92e845-c8ce-4d44-b529-a6713bfb1f79"
      },
      "outputs": [],
      "source": [
        "# Calculate performance metrics\n",
        "acc = metrics.accuracy_score(y_ture, y_pred)\n",
        "prec = metrics.precision_score(y_ture, y_pred)\n",
        "rec = metrics.recall_score(y_ture, y_pred)\n",
        "f1 = metrics.f1_score(y_ture, y_pred)\n",
        "\n",
        "print(f\"Accuracy: {acc:.4f}\")\n",
        "print(f\"Precision: {prec:.4f}\")\n",
        "print(f\"Recall: {rec:.4f}\")\n",
        "print(f\"F1 Score: {f1:.4f}\")"
      ]
    },
    {
      "cell_type": "code",
      "execution_count": null,
      "metadata": {
        "colab": {
          "base_uri": "https://localhost:8080/"
        },
        "id": "YgOgWQ51iqJB",
        "outputId": "e3ffde88-2546-439b-bb66-522854f0c1ba"
      },
      "outputs": [],
      "source": [
        "# evaluate model\n",
        "loss, acc = model.evaluate(ds_valid)\n",
        "print(f\"Test Accuracy: {acc:.4f}, Test Loss: {loss:.4f}\")"
      ]
    },
    {
      "cell_type": "code",
      "execution_count": null,
      "metadata": {
        "colab": {
          "base_uri": "https://localhost:8080/"
        },
        "id": "ProkaGQJmWtU",
        "outputId": "d6068c7a-c26d-4db4-b3c0-8a39c4ba3874"
      },
      "outputs": [],
      "source": [
        "#Save the model\n",
        "model.save(\"Car_Truck_after_augmentation.h5\")"
      ]
    }
  ],
  "metadata": {
    "accelerator": "GPU",
    "colab": {
      "gpuType": "T4",
      "provenance": []
    },
    "kernelspec": {
      "display_name": "Python 3",
      "name": "python3"
    },
    "language_info": {
      "name": "python"
    }
  },
  "nbformat": 4,
  "nbformat_minor": 0
}
