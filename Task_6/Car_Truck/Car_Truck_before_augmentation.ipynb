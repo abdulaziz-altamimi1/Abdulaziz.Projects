{
  "cells": [
    {
      "cell_type": "code",
      "execution_count": null,
      "metadata": {
        "id": "aLGV8UsYj9mt"
      },
      "outputs": [],
      "source": [
        "#unzip the file im colab\n",
        "import zipfile\n",
        "with zipfile.ZipFile('/content/drive/MyDrive/Colab Notebooks/cars_trucks.zip', 'r') as zip_ref:\n",
        "    zip_ref.extractall('Car_Truck')"
      ]
    },
    {
      "cell_type": "code",
      "execution_count": null,
      "metadata": {
        "id": "3Mp7fzUqkJn9"
      },
      "outputs": [],
      "source": [
        "#import libraires\n",
        "import os\n",
        "import pandas as pd\n",
        "import numpy as np\n",
        "import matplotlib.pyplot as plt\n",
        "import seaborn as sns\n",
        "from sklearn import metrics\n",
        "import tensorflow as tf\n",
        "from tensorflow import keras\n",
        "from tensorflow.keras import layers\n",
        "from tensorflow.keras.preprocessing import image_dataset_from_directory"
      ]
    },
    {
      "cell_type": "code",
      "execution_count": null,
      "metadata": {
        "colab": {
          "base_uri": "https://localhost:8080/"
        },
        "id": "U_ULg7KEkKgM",
        "outputId": "9b3df027-7883-4bfe-d051-f507e40fdab9"
      },
      "outputs": [],
      "source": [
        "# Load training and validation sets\n",
        "\n",
        "seed=42\n",
        "np.random.seed(seed)\n",
        "tf.random.set_seed(seed)\n",
        "os.environ['PYTHONHASHSEED'] = str(seed)\n",
        "\n",
        "\n",
        "ds_train_ = image_dataset_from_directory(\n",
        "    'Car_Truck/train',\n",
        "    labels='inferred',\n",
        "    label_mode='binary',\n",
        "    image_size=[128, 128],\n",
        "    interpolation='nearest',\n",
        "    batch_size=64,\n",
        "    shuffle=True,\n",
        ")\n",
        "ds_valid_ = image_dataset_from_directory(\n",
        "    'Car_Truck/valid',\n",
        "    labels='inferred',\n",
        "    label_mode='binary',\n",
        "    image_size=[128, 128],\n",
        "    interpolation='nearest',\n",
        "    batch_size=64,\n",
        "    shuffle=False,\n",
        ")\n",
        "\n",
        "# Data Pipeline\n",
        "def convert_to_float(image, label):\n",
        "    image = tf.image.convert_image_dtype(image, dtype=tf.float32)\n",
        "    return image, label\n",
        "\n",
        "AUTOTUNE = tf.data.experimental.AUTOTUNE\n",
        "ds_train = (\n",
        "    ds_train_\n",
        "    .map(convert_to_float)\n",
        "    .cache()\n",
        "    .prefetch(buffer_size=AUTOTUNE)\n",
        ")\n",
        "ds_valid = (\n",
        "    ds_valid_\n",
        "    .map(convert_to_float)\n",
        "    .cache()\n",
        "    .prefetch(buffer_size=AUTOTUNE)\n",
        ")\n"
      ]
    },
    {
      "cell_type": "code",
      "execution_count": null,
      "metadata": {
        "colab": {
          "base_uri": "https://localhost:8080/"
        },
        "id": "OGvUOOOkkLwT",
        "outputId": "622a913a-1228-41d5-b834-87299f2f47f3"
      },
      "outputs": [],
      "source": [
        "# build network model \n",
        "model = keras.Sequential([\n",
        "    # Block One\n",
        "    layers.Conv2D(32, 3, activation='relu',input_shape=[128, 128, 3]),\n",
        "    layers.MaxPool2D(),\n",
        "\n",
        "    # Block Two\n",
        "    layers.Conv2D(64, 3, activation='relu'),\n",
        "    layers.MaxPool2D(),\n",
        "\n",
        "    # Block Three\n",
        "    layers.Conv2D(128, 3, activation='relu'),\n",
        "    layers.Conv2D(128, 3, activation='relu'),\n",
        "    layers.MaxPool2D(),\n",
        "\n",
        "    # Head\n",
        "    layers.Flatten(),\n",
        "    layers.Dense(6, activation='relu'),\n",
        "    layers.Dropout(0.2),\n",
        "    layers.Dense(1, activation='sigmoid'),\n",
        "])"
      ]
    },
    {
      "cell_type": "code",
      "execution_count": null,
      "metadata": {
        "id": "VPunDYX8kNQK"
      },
      "outputs": [],
      "source": [
        "# compile the model\n",
        "model.compile(\n",
        "    optimizer='adam',\n",
        "    loss='binary_crossentropy',\n",
        "    metrics=['binary_accuracy'],\n",
        ")"
      ]
    },
    {
      "cell_type": "code",
      "execution_count": null,
      "metadata": {
        "colab": {
          "base_uri": "https://localhost:8080/"
        },
        "id": "wuyPyI_OkOHi",
        "outputId": "3b933e06-af83-4675-ddc6-e3544a0525c7"
      },
      "outputs": [],
      "source": [
        "# train the model \n",
        "history = model.fit(\n",
        "    ds_train,\n",
        "    validation_data=ds_valid,\n",
        "    epochs=50,\n",
        ")"
      ]
    },
    {
      "cell_type": "code",
      "execution_count": null,
      "metadata": {
        "colab": {
          "base_uri": "https://localhost:8080/",
          "height": 472
        },
        "id": "7DHZuFockQg-",
        "outputId": "5e6de780-cfe3-47ee-b5fd-3a8d4b0025cc"
      },
      "outputs": [],
      "source": [
        "#compare the model loss against the actual val_loss\n",
        "history_frame = pd.DataFrame(history.history)\n",
        "history_frame[['loss', 'val_loss']].plot(title=\"Cross-Entropy Loss\")\n",
        "plt.xlabel(\"Epoch\")\n",
        "plt.ylabel(\"Loss\")\n",
        "plt.grid(True)\n",
        "plt.show()"
      ]
    },
    {
      "cell_type": "code",
      "execution_count": null,
      "metadata": {
        "colab": {
          "base_uri": "https://localhost:8080/",
          "height": 472
        },
        "id": "DfwyWe1OkSOC",
        "outputId": "e666e393-c859-42c1-ab9d-898a93941433"
      },
      "outputs": [],
      "source": [
        "#compare the model accuracy against the actual val accuracy\n",
        "history_frame[['binary_accuracy', 'val_binary_accuracy']].plot(title=\"Accuracy\")\n",
        "plt.xlabel(\"Epoch\")\n",
        "plt.ylabel(\"Accuracy\")\n",
        "plt.grid(True)\n",
        "plt.show()"
      ]
    },
    {
      "cell_type": "code",
      "execution_count": null,
      "metadata": {
        "colab": {
          "base_uri": "https://localhost:8080/"
        },
        "id": "j1wvke5RkTJV",
        "outputId": "36f3751d-27eb-4608-b6a0-683836a58ab4"
      },
      "outputs": [],
      "source": [
        "y_ture=[]\n",
        "y_pred=[]\n",
        "\n",
        "for images, labels in ds_valid:\n",
        "  pred= model.predict(images).flatten()\n",
        "  y_ture.extend(labels.numpy())\n",
        "  y_pred.extend(pred>0.5)\n",
        "\n",
        "\n",
        "y_ture=np.array(y_ture)\n",
        "y_pred=np.array(y_pred)\n"
      ]
    },
    {
      "cell_type": "code",
      "execution_count": null,
      "metadata": {
        "colab": {
          "base_uri": "https://localhost:8080/",
          "height": 472
        },
        "id": "CeSOhWdpkUZF",
        "outputId": "a1409424-26c9-4414-bdc3-6dc08574e1b4"
      },
      "outputs": [],
      "source": [
        "# Confusion matrix\n",
        "cm = metrics.confusion_matrix(y_ture, y_pred)\n",
        "sns.heatmap(cm, annot=True, fmt=\"d\", cmap=\"Blues\")\n",
        "plt.xlabel(\"Predicted\")\n",
        "plt.ylabel(\"Actual\")\n",
        "plt.title(\"Confusion Matrix\")\n",
        "plt.show()"
      ]
    },
    {
      "cell_type": "code",
      "execution_count": null,
      "metadata": {
        "colab": {
          "base_uri": "https://localhost:8080/"
        },
        "id": "R6bOWpwwkVRw",
        "outputId": "7c755e1a-d826-4f8f-c0cc-3291932605a4"
      },
      "outputs": [],
      "source": [
        "# Calculate performance metrics\n",
        "acc = metrics.accuracy_score(y_ture, y_pred)\n",
        "prec = metrics.precision_score(y_ture, y_pred)\n",
        "rec = metrics.recall_score(y_ture, y_pred)\n",
        "f1 = metrics.f1_score(y_ture, y_pred)\n",
        "\n",
        "print(f\"Accuracy: {acc:.4f}\")\n",
        "print(f\"Precision: {prec:.4f}\")\n",
        "print(f\"Recall: {rec:.4f}\")\n",
        "print(f\"F1 Score: {f1:.4f}\")"
      ]
    },
    {
      "cell_type": "code",
      "execution_count": null,
      "metadata": {
        "colab": {
          "base_uri": "https://localhost:8080/"
        },
        "id": "b3MN-29OkWxr",
        "outputId": "0458099d-2fbe-49dd-e86f-08e2d9614928"
      },
      "outputs": [],
      "source": [
        "# evaluate model\n",
        "loss, acc = model.evaluate(ds_valid)\n",
        "print(f\"Test Accuracy: {acc:.4f}, Test Loss: {loss:.4f}\")"
      ]
    },
    {
      "cell_type": "code",
      "execution_count": null,
      "metadata": {
        "colab": {
          "base_uri": "https://localhost:8080/"
        },
        "id": "x-KrzyTrkakI",
        "outputId": "7d9dd5b9-4531-4bad-f06a-7ec31b25349f"
      },
      "outputs": [],
      "source": [
        "#Save the model\n",
        "model.save(\"Car_Truck_before_augmentation.h5\")"
      ]
    }
  ],
  "metadata": {
    "accelerator": "GPU",
    "colab": {
      "gpuType": "T4",
      "provenance": []
    },
    "kernelspec": {
      "display_name": "Python 3",
      "name": "python3"
    },
    "language_info": {
      "name": "python"
    }
  },
  "nbformat": 4,
  "nbformat_minor": 0
}
