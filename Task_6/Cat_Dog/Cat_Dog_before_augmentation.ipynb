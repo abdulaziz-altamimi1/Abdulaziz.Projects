{
  "cells": [
    {
      "cell_type": "code",
      "execution_count": null,
      "metadata": {
        "id": "D60tdNv9Lasw"
      },
      "outputs": [],
      "source": [
        "#unzip the file im colab\n",
        "import zipfile\n",
        "with zipfile.ZipFile('/content/drive/MyDrive/Colab Notebooks/cat_dog.zip', 'r') as zip_ref:\n",
        "    zip_ref.extractall('cat_dog')"
      ]
    },
    {
      "cell_type": "code",
      "execution_count": null,
      "metadata": {
        "id": "wzlzlJVNLsgr"
      },
      "outputs": [],
      "source": [
        "#import libraires\n",
        "import os\n",
        "import pandas as pd\n",
        "import numpy as np\n",
        "import matplotlib.pyplot as plt\n",
        "import seaborn as sns\n",
        "from sklearn import metrics\n",
        "import tensorflow as tf\n",
        "from tensorflow import keras\n",
        "from tensorflow.keras import layers\n",
        "from tensorflow.keras.preprocessing import image_dataset_from_directory"
      ]
    },
    {
      "cell_type": "code",
      "execution_count": null,
      "metadata": {
        "colab": {
          "base_uri": "https://localhost:8080/"
        },
        "id": "jedGXoE1Lu_G",
        "outputId": "8cf4da0c-bd8f-4ff8-84f0-53531bfb972a"
      },
      "outputs": [],
      "source": [
        "# Load training and validation sets\n",
        "\n",
        "seed=42\n",
        "np.random.seed(seed)\n",
        "tf.random.set_seed(seed)\n",
        "os.environ['PYTHONHASHSEED'] = str(seed)\n",
        "\n",
        "ds_train_ = image_dataset_from_directory(\n",
        "    'cat_dog/Train',\n",
        "    labels='inferred',\n",
        "    label_mode='binary',\n",
        "    image_size=[128, 128],\n",
        "    interpolation='nearest',\n",
        "    batch_size=64,\n",
        "    shuffle=True,\n",
        ")\n",
        "ds_valid_ = image_dataset_from_directory(\n",
        "    'cat_dog/Test',\n",
        "    labels='inferred',\n",
        "    label_mode='binary',\n",
        "    image_size=[128, 128],\n",
        "    interpolation='nearest',\n",
        "    batch_size=64,\n",
        "    shuffle=False,\n",
        ")\n",
        "\n",
        "# Data Pipeline\n",
        "def convert_to_float(image, label):\n",
        "    image = tf.image.convert_image_dtype(image, dtype=tf.float32)\n",
        "    return image, label\n",
        "\n",
        "AUTOTUNE = tf.data.experimental.AUTOTUNE\n",
        "ds_train = (\n",
        "    ds_train_\n",
        "    .map(convert_to_float)\n",
        "    .cache()\n",
        "    .prefetch(buffer_size=AUTOTUNE)\n",
        ")\n",
        "ds_valid = (\n",
        "    ds_valid_\n",
        "    .map(convert_to_float)\n",
        "    .cache()\n",
        "    .prefetch(buffer_size=AUTOTUNE)\n",
        ")\n"
      ]
    },
    {
      "cell_type": "code",
      "execution_count": null,
      "metadata": {
        "colab": {
          "base_uri": "https://localhost:8080/"
        },
        "id": "vk6MuDlpLwWN",
        "outputId": "282ba87f-679f-4314-b309-899488ea8f45"
      },
      "outputs": [],
      "source": [
        "# build network model \n",
        "model = keras.Sequential([\n",
        "\n",
        "    layers.Conv2D(32, 3, activation='relu', input_shape=[128, 128, 3]),\n",
        "    layers.MaxPool2D(),\n",
        "    layers.Conv2D(64, 3, activation='relu'),\n",
        "    layers.MaxPool2D(),\n",
        "    layers.Conv2D(128, 3, activation='relu'),\n",
        "    layers.Conv2D(128, 3, activation='relu', padding='same'),\n",
        "    layers.MaxPool2D(),\n",
        "    layers.Flatten(),\n",
        "    layers.Dense(6, activation='relu'),\n",
        "    layers.Dropout(0.2),\n",
        "    layers.Dense(1, activation='sigmoid'),\n",
        "])"
      ]
    },
    {
      "cell_type": "code",
      "execution_count": null,
      "metadata": {
        "id": "rjny_tJHLx61"
      },
      "outputs": [],
      "source": [
        "# compile the model\n",
        "model.compile(\n",
        "    optimizer='adam',\n",
        "    loss='binary_crossentropy',\n",
        "    metrics=['binary_accuracy'],\n",
        ")"
      ]
    },
    {
      "cell_type": "code",
      "execution_count": null,
      "metadata": {
        "colab": {
          "base_uri": "https://localhost:8080/"
        },
        "id": "0FnC3DTPLy9c",
        "outputId": "4de14b0b-30f7-4d66-83e8-2544cc62f0d0"
      },
      "outputs": [],
      "source": [
        "# train the model\n",
        "history = model.fit(\n",
        "    ds_train,\n",
        "    validation_data=ds_valid,\n",
        "    epochs=50,\n",
        ")"
      ]
    },
    {
      "cell_type": "code",
      "execution_count": null,
      "metadata": {
        "colab": {
          "base_uri": "https://localhost:8080/",
          "height": 927
        },
        "id": "_vgnw3XjpltG",
        "outputId": "cbc8a798-50cb-4971-a877-c99bfe664790"
      },
      "outputs": [],
      "source": [
        "#compare the model loss against the actual val_loss\n",
        "history_frame = pd.DataFrame(history.history)\n",
        "history_frame[['loss', 'val_loss']].plot(title=\"Cross-Entropy Loss\")\n",
        "plt.xlabel(\"Epoch\")\n",
        "plt.ylabel(\"Loss\")\n",
        "plt.grid(True)\n",
        "plt.show()\n",
        "\n",
        "#compare the model accuracy against the actual val accuracy\n",
        "history_frame[['binary_accuracy', 'val_binary_accuracy']].plot(title=\"Accuracy\")\n",
        "plt.xlabel(\"Epoch\")\n",
        "plt.ylabel(\"Accuracy\")\n",
        "plt.grid(True)\n",
        "plt.show()"
      ]
    },
    {
      "cell_type": "code",
      "execution_count": null,
      "metadata": {
        "colab": {
          "base_uri": "https://localhost:8080/"
        },
        "id": "ZGpKJlYyL33m",
        "outputId": "85a86c62-d441-4dfb-a578-a135c86dc63d"
      },
      "outputs": [],
      "source": [
        "y_ture=[]\n",
        "y_pred=[]\n",
        "\n",
        "for images, labels in ds_valid:\n",
        "  pred= model.predict(images).flatten()\n",
        "  y_ture.extend(labels.numpy())\n",
        "  y_pred.extend(pred>0.5)\n",
        "\n",
        "\n",
        "y_ture=np.array(y_ture)\n",
        "y_pred=np.array(y_pred)"
      ]
    },
    {
      "cell_type": "code",
      "execution_count": null,
      "metadata": {
        "colab": {
          "base_uri": "https://localhost:8080/",
          "height": 472
        },
        "id": "rN2cLnlJL5Vu",
        "outputId": "eb607f0a-aa6a-4f0c-87ef-3e473b49d5fa"
      },
      "outputs": [],
      "source": [
        "# Confusion matrix\n",
        "cm = metrics.confusion_matrix(y_ture, y_pred)\n",
        "sns.heatmap(cm, annot=True, fmt=\"d\", cmap=\"Blues\")\n",
        "plt.xlabel(\"Predicted\")\n",
        "plt.ylabel(\"Actual\")\n",
        "plt.title(\"Confusion Matrix\")\n",
        "plt.show()"
      ]
    },
    {
      "cell_type": "code",
      "execution_count": null,
      "metadata": {
        "colab": {
          "base_uri": "https://localhost:8080/"
        },
        "id": "iapqV-ahL6-v",
        "outputId": "ea4e7cfe-7fad-43e8-f8e2-369fef179a19"
      },
      "outputs": [],
      "source": [
        "# Calculate performance metrics\n",
        "acc = metrics.accuracy_score(y_ture, y_pred)\n",
        "prec = metrics.precision_score(y_ture, y_pred)\n",
        "rec = metrics.recall_score(y_ture, y_pred)\n",
        "f1 = metrics.f1_score(y_ture, y_pred)\n",
        "\n",
        "print(f\"Accuracy: {acc:.4f}\")\n",
        "print(f\"Precision: {prec:.4f}\")\n",
        "print(f\"Recall: {rec:.4f}\")\n",
        "print(f\"F1 Score: {f1:.4f}\")"
      ]
    },
    {
      "cell_type": "code",
      "execution_count": null,
      "metadata": {
        "colab": {
          "base_uri": "https://localhost:8080/"
        },
        "id": "y_oueBh3L9mi",
        "outputId": "b9494a7a-01bc-4210-8726-af49e454ce6a"
      },
      "outputs": [],
      "source": [
        "# evaluate model\n",
        "loss, acc = model.evaluate(ds_valid)\n",
        "print(f\"Test Accuracy: {acc:.4f}, Test Loss: {loss:.4f}\")"
      ]
    },
    {
      "cell_type": "code",
      "execution_count": null,
      "metadata": {
        "colab": {
          "base_uri": "https://localhost:8080/"
        },
        "id": "I2UVZcr7Qe3B",
        "outputId": "af8624e5-375f-4c67-af0d-06ae05e94a44"
      },
      "outputs": [],
      "source": [
        "# save model\n",
        "model.save('Cat_Dog_before_augmentation.h5')"
      ]
    }
  ],
  "metadata": {
    "accelerator": "GPU",
    "colab": {
      "gpuType": "T4",
      "provenance": []
    },
    "kernelspec": {
      "display_name": "Python 3",
      "name": "python3"
    },
    "language_info": {
      "name": "python"
    }
  },
  "nbformat": 4,
  "nbformat_minor": 0
}
