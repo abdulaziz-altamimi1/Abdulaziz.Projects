{
  "cells": [
    {
      "cell_type": "code",
      "execution_count": null,
      "metadata": {
        "colab": {
          "base_uri": "https://localhost:8080/"
        },
        "id": "N_-fD2h3UqOz",
        "outputId": "a8793514-fa95-437d-b136-06712997a3e6"
      },
      "outputs": [],
      "source": [
        "# import dataset\n",
        "from tensorflow.keras.datasets import mnist\n",
        "(X_train, y_train), (X_test, y_test) = mnist.load_data()"
      ]
    },
    {
      "cell_type": "code",
      "execution_count": null,
      "metadata": {
        "colab": {
          "base_uri": "https://localhost:8080/"
        },
        "id": "MiwaBbeLU5C0",
        "outputId": "3284aac0-14e9-417c-c27d-e5f225e9bb83"
      },
      "outputs": [],
      "source": [
        "# X_train shape\n",
        "X_train.shape"
      ]
    },
    {
      "cell_type": "code",
      "execution_count": null,
      "metadata": {
        "colab": {
          "base_uri": "https://localhost:8080/"
        },
        "id": "YCr8WNYzU536",
        "outputId": "f5973913-48ab-42e3-8495-c50cbe653325"
      },
      "outputs": [],
      "source": [
        "# X_test shape\n",
        "X_test.shape"
      ]
    },
    {
      "cell_type": "code",
      "execution_count": null,
      "metadata": {
        "id": "vodOv29FU60D"
      },
      "outputs": [],
      "source": [
        "#import libraires\n",
        "import pandas as pd\n",
        "import numpy as np\n",
        "import matplotlib.pyplot as plt\n",
        "import seaborn as sns\n",
        "from sklearn import metrics\n",
        "import tensorflow as tf\n",
        "from tensorflow import keras\n",
        "from tensorflow.keras import layers\n",
        "from tensorflow.keras.preprocessing import image_dataset_from_directory"
      ]
    },
    {
      "cell_type": "code",
      "execution_count": null,
      "metadata": {
        "id": "ZM5dhAePU72v"
      },
      "outputs": [],
      "source": [
        "# Load data\n",
        "(X_train, y_train), (X_test, y_test) = tf.keras.datasets.mnist.load_data()\n",
        "\n",
        "# Normalize\n",
        "X_train = X_train / 255.0\n",
        "X_test = X_test / 255.0\n",
        "\n",
        "# Reshape\n",
        "X_train = X_train.reshape(-1, 28, 28, 1)\n",
        "X_test = X_test.reshape(-1, 28, 28, 1)"
      ]
    },
    {
      "cell_type": "code",
      "execution_count": null,
      "metadata": {
        "colab": {
          "base_uri": "https://localhost:8080/"
        },
        "id": "wwRvOLVAce8R",
        "outputId": "4e38973c-6133-4c80-b540-63e14d8fd5ba"
      },
      "outputs": [],
      "source": [
        "# build network model\n",
        "model = keras.Sequential([\n",
        "    layers.RandomContrast(0.1),\n",
        "    layers.RandomRotation(0.1),\n",
        "\n",
        "    layers.Conv2D(32, 3, activation='relu', input_shape=(28, 28, 1)),\n",
        "    layers.MaxPooling2D(),\n",
        "    layers.Conv2D(64, 3, activation='relu'),\n",
        "    layers.MaxPooling2D(),\n",
        "    layers.Flatten(),\n",
        "    layers.Dense(128, activation='relu'),\n",
        "    layers.Dense(10, activation='softmax')  # 10 outputs for 0–9\n",
        "])"
      ]
    },
    {
      "cell_type": "code",
      "execution_count": null,
      "metadata": {
        "id": "rn1qkekeU-S9"
      },
      "outputs": [],
      "source": [
        "# compile the model\n",
        "model.compile(\n",
        "    optimizer='adam',\n",
        "    loss='sparse_categorical_crossentropy',\n",
        "    metrics=['accuracy'])"
      ]
    },
    {
      "cell_type": "code",
      "execution_count": null,
      "metadata": {
        "colab": {
          "base_uri": "https://localhost:8080/"
        },
        "id": "wlnpeQXiU_Ur",
        "outputId": "51d2f34b-ca37-4aed-fe48-f8bbd5f1acdd"
      },
      "outputs": [],
      "source": [
        "# rain the model\n",
        "history = model.fit(\n",
        "    X_train,\n",
        "    y_train,\n",
        "    epochs=15,\n",
        "    validation_split=0.2)"
      ]
    },
    {
      "cell_type": "code",
      "execution_count": null,
      "metadata": {
        "colab": {
          "base_uri": "https://localhost:8080/",
          "height": 472
        },
        "id": "6KUqzAUlVApJ",
        "outputId": "cc283c84-ff62-4392-de37-7ceda47bb5ab"
      },
      "outputs": [],
      "source": [
        "#compare the model loss against the actual val_loss\n",
        "history_df = pd.DataFrame(history.history)\n",
        "history_df[['loss', 'val_loss']].plot(title=\"Cross-Entropy Loss\")\n",
        "plt.xlabel(\"Epoch\")\n",
        "plt.ylabel(\"Loss\")\n",
        "plt.grid(True)\n",
        "plt.show()"
      ]
    },
    {
      "cell_type": "code",
      "execution_count": null,
      "metadata": {
        "colab": {
          "base_uri": "https://localhost:8080/",
          "height": 472
        },
        "id": "FaG-HPxfVBja",
        "outputId": "afffff9a-55ff-4b26-8138-59520ea14c92"
      },
      "outputs": [],
      "source": [
        "#compare the model accuracy against the actual val accuracy\n",
        "history_df[['accuracy', 'val_accuracy']].plot(title=\"Accuracy\")\n",
        "plt.xlabel(\"Epoch\")\n",
        "plt.ylabel(\"Accuracy\")\n",
        "plt.grid(True)\n",
        "plt.show()"
      ]
    },
    {
      "cell_type": "code",
      "execution_count": null,
      "metadata": {
        "colab": {
          "base_uri": "https://localhost:8080/"
        },
        "id": "pUVoDrXgVC4j",
        "outputId": "499a1dad-4bf6-4b59-f8b9-b460e6fb51a5"
      },
      "outputs": [],
      "source": [
        "# evaluate model\n",
        "test_loss, test_acc = model.evaluate(X_test, y_test)\n",
        "print(f\"\\nTest Accuracy: {test_acc:.4f}, Test Loss: {test_loss:.4f}\")"
      ]
    },
    {
      "cell_type": "code",
      "execution_count": null,
      "metadata": {
        "colab": {
          "base_uri": "https://localhost:8080/",
          "height": 1000
        },
        "id": "XQhc_ETJVDqA",
        "outputId": "2716e5a1-60c7-41a3-ed28-2c9bb067a3e1"
      },
      "outputs": [],
      "source": [
        "# Calculate performance metrics\n",
        "y_pred_probs = model.predict(X_test)\n",
        "y_pred = np.argmax(y_pred_probs, axis=1)\n",
        "\n",
        "acc = metrics.accuracy_score(y_test, y_pred)\n",
        "print(f\"Accuracy: {acc:.4f}\")\n",
        "\n",
        "precision_per_class = metrics.precision_score(y_test, y_pred, average=None)\n",
        "print(\"Precision per class:\")\n",
        "for i, score in enumerate(precision_per_class):\n",
        "    print(f\"Class {i}: {score:.4f}\")\n",
        "\n",
        "recall_per_class = metrics.recall_score(y_test, y_pred, average=None)\n",
        "print(\"\\nRecall per class:\")\n",
        "for i, score in enumerate(recall_per_class):\n",
        "    print(f\"Class {i}: {score:.4f}\")\n",
        "\n",
        "f1_per_class = metrics.f1_score(y_test, y_pred, average=None)\n",
        "print(\"\\nF1 Score per class:\")\n",
        "for i, score in enumerate(f1_per_class):\n",
        "    print(f\"Class {i}: {score:.4f}\")\n",
        "\n",
        "# Confusion matrix\n",
        "cm = metrics.confusion_matrix(y_test, y_pred)\n",
        "plt.figure(figsize=(10, 8))\n",
        "sns.heatmap(cm, annot=True, fmt='d', cmap='Blues')\n",
        "plt.title(\"Confusion Matrix\")\n",
        "plt.xlabel(\"Predicted\")\n",
        "plt.ylabel(\"Actual\")\n",
        "plt.show()"
      ]
    },
    {
      "cell_type": "code",
      "execution_count": null,
      "metadata": {
        "colab": {
          "base_uri": "https://localhost:8080/"
        },
        "id": "fRV4V7x1VJoV",
        "outputId": "4465dcd0-bc15-4347-f389-d6af159d18e4"
      },
      "outputs": [],
      "source": [
        "# save the model\n",
        "model.save(\"digit_after_augmentation.h5\")"
      ]
    }
  ],
  "metadata": {
    "accelerator": "GPU",
    "colab": {
      "gpuType": "T4",
      "provenance": []
    },
    "kernelspec": {
      "display_name": "Python 3",
      "name": "python3"
    },
    "language_info": {
      "name": "python"
    }
  },
  "nbformat": 4,
  "nbformat_minor": 0
}
