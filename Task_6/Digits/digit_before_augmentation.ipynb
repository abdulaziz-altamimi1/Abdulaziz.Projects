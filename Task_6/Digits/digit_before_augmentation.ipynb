{
  "cells": [
    {
      "cell_type": "code",
      "execution_count": null,
      "metadata": {
        "colab": {
          "base_uri": "https://localhost:8080/"
        },
        "id": "SESw2dM5UpKy",
        "outputId": "73c176b2-059a-4b7a-bb41-0f7f5074df93"
      },
      "outputs": [],
      "source": [
        "# import dataset\n",
        "from tensorflow.keras.datasets import mnist\n",
        "(X_train, y_train), (X_test, y_test) = mnist.load_data()"
      ]
    },
    {
      "cell_type": "code",
      "execution_count": null,
      "metadata": {
        "colab": {
          "base_uri": "https://localhost:8080/"
        },
        "id": "RYz-qaY2wkut",
        "outputId": "f3e8b3f1-e321-4a88-f296-a029b7652928"
      },
      "outputs": [],
      "source": [
        "# X_train shape\n",
        "X_train.shape"
      ]
    },
    {
      "cell_type": "code",
      "execution_count": null,
      "metadata": {
        "colab": {
          "base_uri": "https://localhost:8080/"
        },
        "id": "m088ctKGwnS-",
        "outputId": "c2c24957-d85a-487a-c9a2-819cdfd5ce5d"
      },
      "outputs": [],
      "source": [
        "# X_test shape\n",
        "X_test.shape"
      ]
    },
    {
      "cell_type": "code",
      "execution_count": null,
      "metadata": {
        "id": "R4j-nf1RUtWK"
      },
      "outputs": [],
      "source": [
        "#import libraires\n",
        "import pandas as pd\n",
        "import numpy as np\n",
        "import matplotlib.pyplot as plt\n",
        "import seaborn as sns\n",
        "from sklearn import metrics\n",
        "import tensorflow as tf\n",
        "from tensorflow import keras\n",
        "from tensorflow.keras import layers\n",
        "from tensorflow.keras.preprocessing import image_dataset_from_directory"
      ]
    },
    {
      "cell_type": "code",
      "execution_count": null,
      "metadata": {
        "id": "rRz2cu6cUxQm"
      },
      "outputs": [],
      "source": [
        "# Load data\n",
        "(X_train, y_train), (X_test, y_test) = tf.keras.datasets.mnist.load_data()\n",
        "\n",
        "# Normalize\n",
        "X_train = X_train / 255.0\n",
        "X_test = X_test / 255.0\n",
        "\n",
        "# Reshape\n",
        "X_train = X_train.reshape(-1, 28, 28, 1)\n",
        "X_test = X_test.reshape(-1, 28, 28, 1)"
      ]
    },
    {
      "cell_type": "code",
      "execution_count": null,
      "metadata": {
        "colab": {
          "base_uri": "https://localhost:8080/"
        },
        "id": "NjYu3haFUzQA",
        "outputId": "eba26b75-809c-44e8-f51a-a3835451f457"
      },
      "outputs": [],
      "source": [
        "# build network model\n",
        "model = keras.Sequential([\n",
        "    layers.Conv2D(32, 3, activation='relu', input_shape=(28, 28, 1)),\n",
        "    layers.MaxPooling2D(),\n",
        "    layers.Conv2D(64, 3, activation='relu'),\n",
        "    layers.MaxPooling2D(),\n",
        "    layers.Flatten(),\n",
        "    layers.Dense(128, activation='relu'),\n",
        "    layers.Dense(10, activation='softmax')  # 10 outputs for 0–9\n",
        "])"
      ]
    },
    {
      "cell_type": "code",
      "execution_count": null,
      "metadata": {
        "id": "pcy0g5qTU1RA"
      },
      "outputs": [],
      "source": [
        "# compile the model\n",
        "model.compile(\n",
        "    optimizer='adam',\n",
        "    loss='sparse_categorical_crossentropy',\n",
        "    metrics=['accuracy'])"
      ]
    },
    {
      "cell_type": "code",
      "execution_count": null,
      "metadata": {
        "colab": {
          "base_uri": "https://localhost:8080/"
        },
        "id": "5UxAnxMKU2N4",
        "outputId": "a64197df-7751-49ff-d934-5917690f2abf"
      },
      "outputs": [],
      "source": [
        "# train the model\n",
        "history = model.fit(\n",
        "    X_train,\n",
        "    y_train,\n",
        "    epochs=15,\n",
        "    validation_split=0.2)"
      ]
    },
    {
      "cell_type": "code",
      "execution_count": null,
      "metadata": {
        "colab": {
          "base_uri": "https://localhost:8080/",
          "height": 472
        },
        "id": "H-_xpg1Qsk3i",
        "outputId": "7fb5338e-bca0-4b52-9ddb-60a832967340"
      },
      "outputs": [],
      "source": [
        "#compare the model loss against the actual val_loss\n",
        "history_df = pd.DataFrame(history.history)\n",
        "history_df[['loss', 'val_loss']].plot(title=\"Cross-Entropy Loss\")\n",
        "plt.xlabel(\"Epoch\")\n",
        "plt.ylabel(\"Loss\")\n",
        "plt.grid(True)\n",
        "plt.show()"
      ]
    },
    {
      "cell_type": "code",
      "execution_count": null,
      "metadata": {
        "colab": {
          "base_uri": "https://localhost:8080/",
          "height": 472
        },
        "id": "rpBgl7ASsdEh",
        "outputId": "d4cfdaad-ecf9-4313-a9e4-304d17578cde"
      },
      "outputs": [],
      "source": [
        "#compare the model accuracy against the actual val accuracy\n",
        "history_df[['accuracy', 'val_accuracy']].plot(title=\"Accuracy\")\n",
        "plt.xlabel(\"Epoch\")\n",
        "plt.ylabel(\"Accuracy\")\n",
        "plt.grid(True)\n",
        "plt.show()"
      ]
    },
    {
      "cell_type": "code",
      "execution_count": null,
      "metadata": {
        "colab": {
          "base_uri": "https://localhost:8080/"
        },
        "id": "2oPAI7zlU52z",
        "outputId": "9e13493c-5a32-454b-cdd1-427d9f354701"
      },
      "outputs": [],
      "source": [
        "# evaluate model\n",
        "test_loss, test_acc = model.evaluate(X_test, y_test)\n",
        "print(f\"\\nTest Accuracy: {test_acc:.4f}, Test Loss: {test_loss:.4f}\")"
      ]
    },
    {
      "cell_type": "code",
      "execution_count": null,
      "metadata": {
        "colab": {
          "base_uri": "https://localhost:8080/",
          "height": 1000
        },
        "id": "HVNMFoR_Xy3X",
        "outputId": "3138758b-59e2-4d72-d8fc-eff5914be39e"
      },
      "outputs": [],
      "source": [
        "# Calculate performance metrics\n",
        "y_pred_probs = model.predict(X_test)\n",
        "y_pred = np.argmax(y_pred_probs, axis=1)\n",
        "\n",
        "acc = metrics.accuracy_score(y_test, y_pred)\n",
        "print(f\"Accuracy: {acc:.4f}\")\n",
        "\n",
        "precision_per_class = metrics.precision_score(y_test, y_pred, average=None)\n",
        "print(\"Precision per class:\")\n",
        "for i, score in enumerate(precision_per_class):\n",
        "    print(f\"Class {i}: {score:.4f}\")\n",
        "\n",
        "recall_per_class = metrics.recall_score(y_test, y_pred, average=None)\n",
        "print(\"\\nRecall per class:\")\n",
        "for i, score in enumerate(recall_per_class):\n",
        "    print(f\"Class {i}: {score:.4f}\")\n",
        "\n",
        "f1_per_class = metrics.f1_score(y_test, y_pred, average=None)\n",
        "print(\"\\nF1 Score per class:\")\n",
        "for i, score in enumerate(f1_per_class):\n",
        "    print(f\"Class {i}: {score:.4f}\")\n",
        "\n",
        "# Confusion matrix\n",
        "cm = metrics.confusion_matrix(y_test, y_pred)\n",
        "plt.figure(figsize=(10, 8))\n",
        "sns.heatmap(cm, annot=True, fmt='d', cmap='Blues')\n",
        "plt.title(\"Confusion Matrix\")\n",
        "plt.xlabel(\"Predicted\")\n",
        "plt.ylabel(\"Actual\")\n",
        "plt.show()\n"
      ]
    },
    {
      "cell_type": "code",
      "execution_count": null,
      "metadata": {
        "colab": {
          "base_uri": "https://localhost:8080/"
        },
        "id": "R58fL0sLYwsR",
        "outputId": "a61ca149-7375-44a9-8b25-2e31bf528f2e"
      },
      "outputs": [],
      "source": [
        "# save the model\n",
        "model.save(\"digit_before_augmentation.h5\")"
      ]
    }
  ],
  "metadata": {
    "accelerator": "GPU",
    "colab": {
      "gpuType": "T4",
      "provenance": []
    },
    "kernelspec": {
      "display_name": "Python 3",
      "name": "python3"
    },
    "language_info": {
      "name": "python"
    }
  },
  "nbformat": 4,
  "nbformat_minor": 0
}
