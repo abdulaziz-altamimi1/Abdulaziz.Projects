{
  "cells": [
    {
      "cell_type": "code",
      "execution_count": null,
      "metadata": {
        "id": "tIlbdu00zEEt"
      },
      "outputs": [],
      "source": [
        "# import libraries\n",
        "from ultralytics import YOLO\n",
        "import cv2\n",
        "import pytesseract\n",
        "import numpy as np\n",
        "from google.colab.patches import cv2_imshow\n",
        "from google.colab import files"
      ]
    },
    {
      "cell_type": "code",
      "execution_count": null,
      "metadata": {
        "colab": {
          "base_uri": "https://localhost:8080/",
          "height": 73
        },
        "id": "YAoYipMZzFLB",
        "outputId": "b7b23d1f-3b35-44b9-adb4-f7065a2caae1"
      },
      "outputs": [],
      "source": [
        "# upload the image\n",
        "uploaded = files.upload()\n",
        "image_path = list(uploaded.keys())[0]\n",
        "image = cv2.imread(image_path)"
      ]
    },
    {
      "cell_type": "code",
      "execution_count": null,
      "metadata": {
        "colab": {
          "base_uri": "https://localhost:8080/"
        },
        "id": "dzv13K6XzHxw",
        "outputId": "b0a492e1-98a4-493f-d722-1c94deeda59a"
      },
      "outputs": [],
      "source": [
        "# load pretrained YOLOv8\n",
        "model = YOLO('yolov8n.pt')"
      ]
    },
    {
      "cell_type": "code",
      "execution_count": null,
      "metadata": {
        "colab": {
          "base_uri": "https://localhost:8080/"
        },
        "id": "t0EnCowqzJVX",
        "outputId": "32a8dc64-2e91-42b0-d8b1-d3cc5b7f463f"
      },
      "outputs": [],
      "source": [
        "# Run YOLO\n",
        "results = model(image)"
      ]
    },
    {
      "cell_type": "code",
      "execution_count": null,
      "metadata": {
        "id": "O-cPrJjXzKWK"
      },
      "outputs": [],
      "source": [
        "# Draw boxes\n",
        "names = model.names\n",
        "for box in results[0].boxes:\n",
        "    cls_id = int(box.cls[0])\n",
        "    name = names[cls_id]\n",
        "    x1, y1, x2, y2 = map(int, box.xyxy[0])\n",
        "    cv2.rectangle(image, (x1, y1), (x2, y2), (0,255,0), 2)\n",
        "    cv2.putText(image, name, (x1, y1 - 10),\n",
        "                cv2.FONT_HERSHEY_SIMPLEX, 0.9, (0,255,0), 2)"
      ]
    },
    {
      "cell_type": "code",
      "execution_count": null,
      "metadata": {
        "colab": {
          "base_uri": "https://localhost:8080/",
          "height": 211
        },
        "id": "gMsya5qmzLf1",
        "outputId": "8b62f285-39af-45b0-8cd7-2a749b54a988"
      },
      "outputs": [],
      "source": [
        "# Show image with detections\n",
        "cv2_imshow(image)"
      ]
    }
  ],
  "metadata": {
    "colab": {
      "provenance": []
    },
    "kernelspec": {
      "display_name": "Python 3",
      "name": "python3"
    },
    "language_info": {
      "name": "python",
      "version": "3.11.7"
    }
  },
  "nbformat": 4,
  "nbformat_minor": 0
}
